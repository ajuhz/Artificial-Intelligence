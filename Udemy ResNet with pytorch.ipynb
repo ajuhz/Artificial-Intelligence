{
  "nbformat": 4,
  "nbformat_minor": 0,
  "metadata": {
    "colab": {
      "name": "Untitled4.ipynb",
      "provenance": [],
      "authorship_tag": "ABX9TyOnVPX/iBBapR0ar04hbA57",
      "include_colab_link": true
    },
    "kernelspec": {
      "name": "python3",
      "display_name": "Python 3"
    },
    "accelerator": "GPU",
    "widgets": {
      "application/vnd.jupyter.widget-state+json": {
        "dfc418129a9a4537a8fe5021b2e67c98": {
          "model_module": "@jupyter-widgets/controls",
          "model_name": "HBoxModel",
          "state": {
            "_view_name": "HBoxView",
            "_dom_classes": [],
            "_model_name": "HBoxModel",
            "_view_module": "@jupyter-widgets/controls",
            "_model_module_version": "1.5.0",
            "_view_count": null,
            "_view_module_version": "1.5.0",
            "box_style": "",
            "layout": "IPY_MODEL_e6c98cec761d431ea33910cc17604141",
            "_model_module": "@jupyter-widgets/controls",
            "children": [
              "IPY_MODEL_f07e7e84147047cda92af020269b7818",
              "IPY_MODEL_186b607b9f3c404c8d960d036b5d85e4"
            ]
          }
        },
        "e6c98cec761d431ea33910cc17604141": {
          "model_module": "@jupyter-widgets/base",
          "model_name": "LayoutModel",
          "state": {
            "_view_name": "LayoutView",
            "grid_template_rows": null,
            "right": null,
            "justify_content": null,
            "_view_module": "@jupyter-widgets/base",
            "overflow": null,
            "_model_module_version": "1.2.0",
            "_view_count": null,
            "flex_flow": null,
            "width": null,
            "min_width": null,
            "border": null,
            "align_items": null,
            "bottom": null,
            "_model_module": "@jupyter-widgets/base",
            "top": null,
            "grid_column": null,
            "overflow_y": null,
            "overflow_x": null,
            "grid_auto_flow": null,
            "grid_area": null,
            "grid_template_columns": null,
            "flex": null,
            "_model_name": "LayoutModel",
            "justify_items": null,
            "grid_row": null,
            "max_height": null,
            "align_content": null,
            "visibility": null,
            "align_self": null,
            "height": null,
            "min_height": null,
            "padding": null,
            "grid_auto_rows": null,
            "grid_gap": null,
            "max_width": null,
            "order": null,
            "_view_module_version": "1.2.0",
            "grid_template_areas": null,
            "object_position": null,
            "object_fit": null,
            "grid_auto_columns": null,
            "margin": null,
            "display": null,
            "left": null
          }
        },
        "f07e7e84147047cda92af020269b7818": {
          "model_module": "@jupyter-widgets/controls",
          "model_name": "FloatProgressModel",
          "state": {
            "_view_name": "ProgressView",
            "style": "IPY_MODEL_f72d0382dc5448c888a794dfd4c4e4a4",
            "_dom_classes": [],
            "description": "",
            "_model_name": "FloatProgressModel",
            "bar_style": "info",
            "max": 1,
            "_view_module": "@jupyter-widgets/controls",
            "_model_module_version": "1.5.0",
            "value": 1,
            "_view_count": null,
            "_view_module_version": "1.5.0",
            "orientation": "horizontal",
            "min": 0,
            "description_tooltip": null,
            "_model_module": "@jupyter-widgets/controls",
            "layout": "IPY_MODEL_19ab7e65f94a43df809d59e86d6dfa2c"
          }
        },
        "186b607b9f3c404c8d960d036b5d85e4": {
          "model_module": "@jupyter-widgets/controls",
          "model_name": "HTMLModel",
          "state": {
            "_view_name": "HTMLView",
            "style": "IPY_MODEL_236362aaa02c41e88348206531923d89",
            "_dom_classes": [],
            "description": "",
            "_model_name": "HTMLModel",
            "placeholder": "​",
            "_view_module": "@jupyter-widgets/controls",
            "_model_module_version": "1.5.0",
            "value": " 170500096/? [00:30&lt;00:00, 17413421.69it/s]",
            "_view_count": null,
            "_view_module_version": "1.5.0",
            "description_tooltip": null,
            "_model_module": "@jupyter-widgets/controls",
            "layout": "IPY_MODEL_de7748ce3efa430dac702b3706e6db1e"
          }
        },
        "f72d0382dc5448c888a794dfd4c4e4a4": {
          "model_module": "@jupyter-widgets/controls",
          "model_name": "ProgressStyleModel",
          "state": {
            "_view_name": "StyleView",
            "_model_name": "ProgressStyleModel",
            "description_width": "initial",
            "_view_module": "@jupyter-widgets/base",
            "_model_module_version": "1.5.0",
            "_view_count": null,
            "_view_module_version": "1.2.0",
            "bar_color": null,
            "_model_module": "@jupyter-widgets/controls"
          }
        },
        "19ab7e65f94a43df809d59e86d6dfa2c": {
          "model_module": "@jupyter-widgets/base",
          "model_name": "LayoutModel",
          "state": {
            "_view_name": "LayoutView",
            "grid_template_rows": null,
            "right": null,
            "justify_content": null,
            "_view_module": "@jupyter-widgets/base",
            "overflow": null,
            "_model_module_version": "1.2.0",
            "_view_count": null,
            "flex_flow": null,
            "width": null,
            "min_width": null,
            "border": null,
            "align_items": null,
            "bottom": null,
            "_model_module": "@jupyter-widgets/base",
            "top": null,
            "grid_column": null,
            "overflow_y": null,
            "overflow_x": null,
            "grid_auto_flow": null,
            "grid_area": null,
            "grid_template_columns": null,
            "flex": null,
            "_model_name": "LayoutModel",
            "justify_items": null,
            "grid_row": null,
            "max_height": null,
            "align_content": null,
            "visibility": null,
            "align_self": null,
            "height": null,
            "min_height": null,
            "padding": null,
            "grid_auto_rows": null,
            "grid_gap": null,
            "max_width": null,
            "order": null,
            "_view_module_version": "1.2.0",
            "grid_template_areas": null,
            "object_position": null,
            "object_fit": null,
            "grid_auto_columns": null,
            "margin": null,
            "display": null,
            "left": null
          }
        },
        "236362aaa02c41e88348206531923d89": {
          "model_module": "@jupyter-widgets/controls",
          "model_name": "DescriptionStyleModel",
          "state": {
            "_view_name": "StyleView",
            "_model_name": "DescriptionStyleModel",
            "description_width": "",
            "_view_module": "@jupyter-widgets/base",
            "_model_module_version": "1.5.0",
            "_view_count": null,
            "_view_module_version": "1.2.0",
            "_model_module": "@jupyter-widgets/controls"
          }
        },
        "de7748ce3efa430dac702b3706e6db1e": {
          "model_module": "@jupyter-widgets/base",
          "model_name": "LayoutModel",
          "state": {
            "_view_name": "LayoutView",
            "grid_template_rows": null,
            "right": null,
            "justify_content": null,
            "_view_module": "@jupyter-widgets/base",
            "overflow": null,
            "_model_module_version": "1.2.0",
            "_view_count": null,
            "flex_flow": null,
            "width": null,
            "min_width": null,
            "border": null,
            "align_items": null,
            "bottom": null,
            "_model_module": "@jupyter-widgets/base",
            "top": null,
            "grid_column": null,
            "overflow_y": null,
            "overflow_x": null,
            "grid_auto_flow": null,
            "grid_area": null,
            "grid_template_columns": null,
            "flex": null,
            "_model_name": "LayoutModel",
            "justify_items": null,
            "grid_row": null,
            "max_height": null,
            "align_content": null,
            "visibility": null,
            "align_self": null,
            "height": null,
            "min_height": null,
            "padding": null,
            "grid_auto_rows": null,
            "grid_gap": null,
            "max_width": null,
            "order": null,
            "_view_module_version": "1.2.0",
            "grid_template_areas": null,
            "object_position": null,
            "object_fit": null,
            "grid_auto_columns": null,
            "margin": null,
            "display": null,
            "left": null
          }
        }
      }
    }
  },
  "cells": [
    {
      "cell_type": "markdown",
      "metadata": {
        "id": "view-in-github",
        "colab_type": "text"
      },
      "source": [
        "<a href=\"https://colab.research.google.com/github/ajuhz/Artificial-Intelligence/blob/master/Udemy%20ResNet%20with%20pytorch.ipynb\" target=\"_parent\"><img src=\"https://colab.research.google.com/assets/colab-badge.svg\" alt=\"Open In Colab\"/></a>"
      ]
    },
    {
      "cell_type": "code",
      "metadata": {
        "id": "RZ-IUX6UwRv3",
        "colab_type": "code",
        "colab": {}
      },
      "source": [
        "import torch\n",
        "import torch.nn as nn\n",
        "import torchvision\n",
        "from torchvision import transforms"
      ],
      "execution_count": 1,
      "outputs": []
    },
    {
      "cell_type": "code",
      "metadata": {
        "id": "YOoaXH0jxube",
        "colab_type": "code",
        "colab": {}
      },
      "source": [
        "# Device configuration\n",
        "device = torch.device('cuda' if torch.cuda.is_available() else 'cpu')"
      ],
      "execution_count": 2,
      "outputs": []
    },
    {
      "cell_type": "code",
      "metadata": {
        "id": "bb4sh_qhyZZt",
        "colab_type": "code",
        "colab": {}
      },
      "source": [
        "# Hyper-parameters\n",
        "num_epochs = 25\n",
        "batch_size = 100\n",
        "learning_rate = 0.001"
      ],
      "execution_count": 3,
      "outputs": []
    },
    {
      "cell_type": "code",
      "metadata": {
        "id": "a4mSaJdzyijQ",
        "colab_type": "code",
        "colab": {}
      },
      "source": [
        "# Transform on the training dataset\n",
        "transform=transforms.Compose([transforms.Pad(4),\n",
        "                              transforms.RandomHorizontalFlip(),\n",
        "                              transforms.RandomCrop(32),\n",
        "                              transforms.ToTensor()])"
      ],
      "execution_count": 4,
      "outputs": []
    },
    {
      "cell_type": "code",
      "metadata": {
        "id": "h2sEcZqIzYAE",
        "colab_type": "code",
        "colab": {
          "base_uri": "https://localhost:8080/",
          "height": 83,
          "referenced_widgets": [
            "dfc418129a9a4537a8fe5021b2e67c98",
            "e6c98cec761d431ea33910cc17604141",
            "f07e7e84147047cda92af020269b7818",
            "186b607b9f3c404c8d960d036b5d85e4",
            "f72d0382dc5448c888a794dfd4c4e4a4",
            "19ab7e65f94a43df809d59e86d6dfa2c",
            "236362aaa02c41e88348206531923d89",
            "de7748ce3efa430dac702b3706e6db1e"
          ]
        },
        "outputId": "282628ec-6854-43eb-81ea-67ac924dcc51"
      },
      "source": [
        "# CIFAR-10 dataset\n",
        "train_dataset = torchvision.datasets.CIFAR10(root='../../data/',\n",
        "                                             train=True, \n",
        "                                             transform=transform,\n",
        "                                             download=True)\n",
        "\n",
        "test_dataset = torchvision.datasets.CIFAR10(root='../../data/',\n",
        "                                            train=False, \n",
        "                                            transform=transforms.ToTensor())\n",
        "\n",
        "# Data loader\n",
        "train_loader = torch.utils.data.DataLoader(dataset=train_dataset,\n",
        "                                           batch_size=batch_size,\n",
        "                                           shuffle=True)\n",
        "\n",
        "test_loader = torch.utils.data.DataLoader(dataset=test_dataset,\n",
        "                                          batch_size=batch_size,\n",
        "                                          shuffle=False)"
      ],
      "execution_count": 5,
      "outputs": [
        {
          "output_type": "stream",
          "text": [
            "Downloading https://www.cs.toronto.edu/~kriz/cifar-10-python.tar.gz to ../../data/cifar-10-python.tar.gz\n"
          ],
          "name": "stdout"
        },
        {
          "output_type": "display_data",
          "data": {
            "application/vnd.jupyter.widget-view+json": {
              "model_id": "dfc418129a9a4537a8fe5021b2e67c98",
              "version_minor": 0,
              "version_major": 2
            },
            "text/plain": [
              "HBox(children=(FloatProgress(value=1.0, bar_style='info', max=1.0), HTML(value='')))"
            ]
          },
          "metadata": {
            "tags": []
          }
        },
        {
          "output_type": "stream",
          "text": [
            "Extracting ../../data/cifar-10-python.tar.gz to ../../data/\n"
          ],
          "name": "stdout"
        }
      ]
    },
    {
      "cell_type": "code",
      "metadata": {
        "id": "8hAnK6djzscI",
        "colab_type": "code",
        "colab": {
          "base_uri": "https://localhost:8080/",
          "height": 71
        },
        "outputId": "63a9399a-5f35-4561-887e-8731c3a10c23"
      },
      "source": [
        "![test]({https://user-images.githubusercontent.com/30661597/78585170-f4ac7c80-786b-11ea-8b00-8b751c65f5ca.PNG})"
      ],
      "execution_count": 6,
      "outputs": [
        {
          "output_type": "stream",
          "text": [
            "/bin/bash: -c: line 0: syntax error near unexpected token `{https://user-images.githubusercontent.com/30661597/78585170-f4ac7c80-786b-11ea-8b00-8b751c65f5ca.PNG}'\n",
            "/bin/bash: -c: line 0: `[test]({https://user-images.githubusercontent.com/30661597/78585170-f4ac7c80-786b-11ea-8b00-8b751c65f5ca.PNG})'\n"
          ],
          "name": "stdout"
        }
      ]
    },
    {
      "cell_type": "code",
      "metadata": {
        "id": "00s3rn5k073a",
        "colab_type": "code",
        "colab": {}
      },
      "source": [
        "def conv3x3(in_channels, out_channels, stride=1):\n",
        "    return nn.Conv2d(in_channels, out_channels, kernel_size=3, stride=stride, padding=1, bias=False)\n",
        "\n",
        "class ResidualBlock(nn.Module):\n",
        "    def __init__(self, in_channels, out_channels, stride=1, downsample=None):\n",
        "        super(ResidualBlock, self).__init__()\n",
        "        self.conv1 = conv3x3(in_channels, out_channels, stride)\n",
        "        self.bn1 = nn.BatchNorm2d(out_channels)\n",
        "        self.relu = nn.ReLU(inplace=True)\n",
        "        self.conv2 = conv3x3(out_channels, out_channels)\n",
        "        self.bn2 = nn.BatchNorm2d(out_channels)\n",
        "        self.downsample = downsample\n",
        "        \n",
        "    def forward(self, x):\n",
        "        residual = x\n",
        "        out = self.conv1(x)\n",
        "        out = self.bn1(out)\n",
        "        out = self.relu(out)\n",
        "        out = self.conv2(out)\n",
        "        out = self.bn2(out)\n",
        "        if self.downsample:\n",
        "            residual = self.downsample(x)\n",
        "        out += residual\n",
        "        out = self.relu(out)\n",
        "        return out"
      ],
      "execution_count": 7,
      "outputs": []
    },
    {
      "cell_type": "code",
      "metadata": {
        "id": "R6USrTg37PxK",
        "colab_type": "code",
        "colab": {}
      },
      "source": [
        "class ResNet(nn.Module):\n",
        "    def __init__(self, block, layers, num_classes=10):\n",
        "        super(ResNet, self).__init__()\n",
        "        self.in_channels = 16\n",
        "        self.conv = conv3x3(3, 16)\n",
        "        self.bn = nn.BatchNorm2d(16)\n",
        "        self.relu = nn.ReLU(inplace=True)\n",
        "        self.layer1 = self.make_layer(block, 16, layers[0])\n",
        "        self.layer2 = self.make_layer(block, 32, layers[1], 2)\n",
        "        self.layer3 = self.make_layer(block, 64, layers[2], 2)\n",
        "        self.avg_pool = nn.AvgPool2d(8)\n",
        "        self.fc = nn.Linear(64, num_classes)\n",
        "        \n",
        "    def make_layer(self, block, out_channels, blocks, stride=1):\n",
        "        downsample = None\n",
        "        if (stride != 1) or (self.in_channels != out_channels):\n",
        "            downsample = nn.Sequential(conv3x3(self.in_channels, out_channels, stride=stride),\n",
        "                                       nn.BatchNorm2d(out_channels))\n",
        "        layers = []\n",
        "        layers.append(block(self.in_channels, out_channels, stride, downsample))\n",
        "        self.in_channels = out_channels\n",
        "        for i in range(1, blocks):\n",
        "            layers.append(block(out_channels, out_channels))\n",
        "        return nn.Sequential(*layers)\n",
        "    \n",
        "    def forward(self, x):\n",
        "        out = self.conv(x)\n",
        "        out = self.bn(out)\n",
        "        out = self.relu(out)\n",
        "        out = self.layer1(out)\n",
        "        out = self.layer2(out)\n",
        "        out = self.layer3(out)\n",
        "        out = self.avg_pool(out)\n",
        "        out = out.view(out.size(0), -1)\n",
        "        out = self.fc(out)\n",
        "        return out"
      ],
      "execution_count": 8,
      "outputs": []
    },
    {
      "cell_type": "code",
      "metadata": {
        "id": "CRbHD9ejS7wf",
        "colab_type": "code",
        "colab": {}
      },
      "source": [
        "model = ResNet(ResidualBlock, [2, 2, 2]).to(device)\n",
        "criterion = nn.CrossEntropyLoss()\n",
        "optimizer = torch.optim.Adam(model.parameters(), lr=learning_rate)"
      ],
      "execution_count": 9,
      "outputs": []
    },
    {
      "cell_type": "code",
      "metadata": {
        "id": "SdIkaELPS8-F",
        "colab_type": "code",
        "colab": {
          "base_uri": "https://localhost:8080/",
          "height": 1000
        },
        "outputId": "568577cd-dc28-4a03-856b-7828be6dcf48"
      },
      "source": [
        "decay = 0\n",
        "model.train()\n",
        "for epoch in range(num_epochs):\n",
        "    \n",
        "    # Decay the learning rate every 20 epochs\n",
        "    if (epoch+1) % 20 == 0:\n",
        "        decay+=1\n",
        "        optimizer.param_groups[0]['lr'] = learning_rate * (0.5**decay)\n",
        "        print(\"The new learning rate is {}\".format(optimizer.param_groups[0]['lr']))\n",
        "        \n",
        "    for i, (images, labels) in enumerate(train_loader):\n",
        "        images = images.to(device)\n",
        "        labels = labels.to(device)\n",
        "        outputs = model(images)\n",
        "        loss = criterion(outputs, labels)\n",
        "        optimizer.zero_grad()\n",
        "        loss.backward()\n",
        "        optimizer.step()\n",
        "        \n",
        "        if (i+1) % 100 == 0:\n",
        "            print (\"Epoch [{}/{}], Step [{}/{}] Loss: {:.4f}\"\n",
        "                   .format(epoch+1, num_epochs, i+1, len(train_loader), loss.item()))"
      ],
      "execution_count": 10,
      "outputs": [
        {
          "output_type": "stream",
          "text": [
            "Epoch [1/25], Step [100/500] Loss: 1.3496\n",
            "Epoch [1/25], Step [200/500] Loss: 1.4266\n",
            "Epoch [1/25], Step [300/500] Loss: 1.1773\n",
            "Epoch [1/25], Step [400/500] Loss: 1.1210\n",
            "Epoch [1/25], Step [500/500] Loss: 1.1518\n",
            "Epoch [2/25], Step [100/500] Loss: 0.8585\n",
            "Epoch [2/25], Step [200/500] Loss: 1.1060\n",
            "Epoch [2/25], Step [300/500] Loss: 1.1373\n",
            "Epoch [2/25], Step [400/500] Loss: 0.9968\n",
            "Epoch [2/25], Step [500/500] Loss: 0.9744\n",
            "Epoch [3/25], Step [100/500] Loss: 0.8254\n",
            "Epoch [3/25], Step [200/500] Loss: 0.7999\n",
            "Epoch [3/25], Step [300/500] Loss: 0.8850\n",
            "Epoch [3/25], Step [400/500] Loss: 0.9448\n",
            "Epoch [3/25], Step [500/500] Loss: 0.7905\n",
            "Epoch [4/25], Step [100/500] Loss: 0.7530\n",
            "Epoch [4/25], Step [200/500] Loss: 0.7998\n",
            "Epoch [4/25], Step [300/500] Loss: 0.6524\n",
            "Epoch [4/25], Step [400/500] Loss: 0.6784\n",
            "Epoch [4/25], Step [500/500] Loss: 0.6986\n",
            "Epoch [5/25], Step [100/500] Loss: 0.6689\n",
            "Epoch [5/25], Step [200/500] Loss: 0.6702\n",
            "Epoch [5/25], Step [300/500] Loss: 0.6397\n",
            "Epoch [5/25], Step [400/500] Loss: 0.7395\n",
            "Epoch [5/25], Step [500/500] Loss: 0.5771\n",
            "Epoch [6/25], Step [100/500] Loss: 0.7496\n",
            "Epoch [6/25], Step [200/500] Loss: 0.6602\n",
            "Epoch [6/25], Step [300/500] Loss: 0.6217\n",
            "Epoch [6/25], Step [400/500] Loss: 0.7445\n",
            "Epoch [6/25], Step [500/500] Loss: 0.5170\n",
            "Epoch [7/25], Step [100/500] Loss: 0.5184\n",
            "Epoch [7/25], Step [200/500] Loss: 0.8667\n",
            "Epoch [7/25], Step [300/500] Loss: 0.5146\n",
            "Epoch [7/25], Step [400/500] Loss: 0.5410\n",
            "Epoch [7/25], Step [500/500] Loss: 0.7727\n",
            "Epoch [8/25], Step [100/500] Loss: 0.5625\n",
            "Epoch [8/25], Step [200/500] Loss: 0.4785\n",
            "Epoch [8/25], Step [300/500] Loss: 0.4652\n",
            "Epoch [8/25], Step [400/500] Loss: 0.6427\n",
            "Epoch [8/25], Step [500/500] Loss: 0.5854\n",
            "Epoch [9/25], Step [100/500] Loss: 0.4975\n",
            "Epoch [9/25], Step [200/500] Loss: 0.5132\n",
            "Epoch [9/25], Step [300/500] Loss: 0.5070\n",
            "Epoch [9/25], Step [400/500] Loss: 0.3991\n",
            "Epoch [9/25], Step [500/500] Loss: 0.5979\n",
            "Epoch [10/25], Step [100/500] Loss: 0.3706\n",
            "Epoch [10/25], Step [200/500] Loss: 0.4383\n",
            "Epoch [10/25], Step [300/500] Loss: 0.4892\n",
            "Epoch [10/25], Step [400/500] Loss: 0.6403\n",
            "Epoch [10/25], Step [500/500] Loss: 0.4219\n",
            "Epoch [11/25], Step [100/500] Loss: 0.2736\n",
            "Epoch [11/25], Step [200/500] Loss: 0.6308\n",
            "Epoch [11/25], Step [300/500] Loss: 0.5459\n",
            "Epoch [11/25], Step [400/500] Loss: 0.5288\n",
            "Epoch [11/25], Step [500/500] Loss: 0.3997\n",
            "Epoch [12/25], Step [100/500] Loss: 0.3323\n",
            "Epoch [12/25], Step [200/500] Loss: 0.4498\n",
            "Epoch [12/25], Step [300/500] Loss: 0.4335\n",
            "Epoch [12/25], Step [400/500] Loss: 0.2434\n",
            "Epoch [12/25], Step [500/500] Loss: 0.7632\n",
            "Epoch [13/25], Step [100/500] Loss: 0.4516\n",
            "Epoch [13/25], Step [200/500] Loss: 0.3747\n",
            "Epoch [13/25], Step [300/500] Loss: 0.4801\n",
            "Epoch [13/25], Step [400/500] Loss: 0.4924\n",
            "Epoch [13/25], Step [500/500] Loss: 0.4021\n",
            "Epoch [14/25], Step [100/500] Loss: 0.4684\n",
            "Epoch [14/25], Step [200/500] Loss: 0.4320\n",
            "Epoch [14/25], Step [300/500] Loss: 0.3494\n",
            "Epoch [14/25], Step [400/500] Loss: 0.3664\n",
            "Epoch [14/25], Step [500/500] Loss: 0.5759\n",
            "Epoch [15/25], Step [100/500] Loss: 0.3186\n",
            "Epoch [15/25], Step [200/500] Loss: 0.5278\n",
            "Epoch [15/25], Step [300/500] Loss: 0.3317\n",
            "Epoch [15/25], Step [400/500] Loss: 0.4711\n",
            "Epoch [15/25], Step [500/500] Loss: 0.4247\n",
            "Epoch [16/25], Step [100/500] Loss: 0.3192\n",
            "Epoch [16/25], Step [200/500] Loss: 0.3030\n",
            "Epoch [16/25], Step [300/500] Loss: 0.3054\n",
            "Epoch [16/25], Step [400/500] Loss: 0.4677\n",
            "Epoch [16/25], Step [500/500] Loss: 0.3685\n",
            "Epoch [17/25], Step [100/500] Loss: 0.3835\n",
            "Epoch [17/25], Step [200/500] Loss: 0.4395\n",
            "Epoch [17/25], Step [300/500] Loss: 0.5599\n",
            "Epoch [17/25], Step [400/500] Loss: 0.3478\n",
            "Epoch [17/25], Step [500/500] Loss: 0.4030\n",
            "Epoch [18/25], Step [100/500] Loss: 0.3264\n",
            "Epoch [18/25], Step [200/500] Loss: 0.3957\n",
            "Epoch [18/25], Step [300/500] Loss: 0.3510\n",
            "Epoch [18/25], Step [400/500] Loss: 0.4183\n",
            "Epoch [18/25], Step [500/500] Loss: 0.3033\n",
            "Epoch [19/25], Step [100/500] Loss: 0.3886\n",
            "Epoch [19/25], Step [200/500] Loss: 0.3769\n",
            "Epoch [19/25], Step [300/500] Loss: 0.3027\n",
            "Epoch [19/25], Step [400/500] Loss: 0.4456\n",
            "Epoch [19/25], Step [500/500] Loss: 0.4057\n",
            "The new learning rate is 0.0005\n",
            "Epoch [20/25], Step [100/500] Loss: 0.3501\n",
            "Epoch [20/25], Step [200/500] Loss: 0.3220\n",
            "Epoch [20/25], Step [300/500] Loss: 0.2459\n",
            "Epoch [20/25], Step [400/500] Loss: 0.2525\n",
            "Epoch [20/25], Step [500/500] Loss: 0.3018\n",
            "Epoch [21/25], Step [100/500] Loss: 0.4438\n",
            "Epoch [21/25], Step [200/500] Loss: 0.2905\n",
            "Epoch [21/25], Step [300/500] Loss: 0.2552\n",
            "Epoch [21/25], Step [400/500] Loss: 0.2785\n",
            "Epoch [21/25], Step [500/500] Loss: 0.3837\n",
            "Epoch [22/25], Step [100/500] Loss: 0.2437\n",
            "Epoch [22/25], Step [200/500] Loss: 0.2969\n",
            "Epoch [22/25], Step [300/500] Loss: 0.2801\n",
            "Epoch [22/25], Step [400/500] Loss: 0.2421\n",
            "Epoch [22/25], Step [500/500] Loss: 0.2129\n",
            "Epoch [23/25], Step [100/500] Loss: 0.2629\n",
            "Epoch [23/25], Step [200/500] Loss: 0.3658\n",
            "Epoch [23/25], Step [300/500] Loss: 0.3685\n",
            "Epoch [23/25], Step [400/500] Loss: 0.3073\n",
            "Epoch [23/25], Step [500/500] Loss: 0.3055\n",
            "Epoch [24/25], Step [100/500] Loss: 0.2029\n",
            "Epoch [24/25], Step [200/500] Loss: 0.1871\n",
            "Epoch [24/25], Step [300/500] Loss: 0.3251\n",
            "Epoch [24/25], Step [400/500] Loss: 0.3294\n",
            "Epoch [24/25], Step [500/500] Loss: 0.2743\n",
            "Epoch [25/25], Step [100/500] Loss: 0.3311\n",
            "Epoch [25/25], Step [200/500] Loss: 0.1352\n",
            "Epoch [25/25], Step [300/500] Loss: 0.3426\n",
            "Epoch [25/25], Step [400/500] Loss: 0.2307\n",
            "Epoch [25/25], Step [500/500] Loss: 0.3128\n"
          ],
          "name": "stdout"
        }
      ]
    },
    {
      "cell_type": "code",
      "metadata": {
        "id": "zNwrwvcRTC5x",
        "colab_type": "code",
        "colab": {
          "base_uri": "https://localhost:8080/",
          "height": 34
        },
        "outputId": "19656a1f-68a1-437b-e708-4fdb4b7787cb"
      },
      "source": [
        "#Test the model\n",
        "model.eval()\n",
        "with torch.no_grad():\n",
        "    correct = 0\n",
        "    total = 0\n",
        "    for images, labels in test_loader:\n",
        "        images = images.to(device)\n",
        "        labels = labels.to(device)\n",
        "        outputs = model(images)\n",
        "        _, predicted = torch.max(outputs.data, 1)\n",
        "        total += labels.size(0)\n",
        "        correct += (predicted == labels).sum().item()\n",
        "\n",
        "    print('Accuracy of the model on the test images: {} %'.format(100 * correct / total))"
      ],
      "execution_count": 11,
      "outputs": [
        {
          "output_type": "stream",
          "text": [
            "Accuracy of the model on the test images: 86.52 %\n"
          ],
          "name": "stdout"
        }
      ]
    },
    {
      "cell_type": "code",
      "metadata": {
        "id": "yoRH7hcfWilb",
        "colab_type": "code",
        "colab": {}
      },
      "source": [
        ""
      ],
      "execution_count": null,
      "outputs": []
    }
  ]
}