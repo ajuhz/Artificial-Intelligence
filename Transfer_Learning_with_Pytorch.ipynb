{
  "nbformat": 4,
  "nbformat_minor": 0,
  "metadata": {
    "colab": {
      "name": "Transfer Learning with Pytorch.ipynb",
      "provenance": [],
      "toc_visible": true,
      "mount_file_id": "1fqqS-N1q6b5EGc23yAOun4CJ4dSwN9DU",
      "authorship_tag": "ABX9TyP9jlLMy79wPLJrmDGz1tBB",
      "include_colab_link": true
    },
    "kernelspec": {
      "name": "python3",
      "display_name": "Python 3"
    },
    "accelerator": "GPU",
    "widgets": {
      "application/vnd.jupyter.widget-state+json": {
        "0ea11ad39efb41eca75906720828d8e2": {
          "model_module": "@jupyter-widgets/controls",
          "model_name": "HBoxModel",
          "state": {
            "_view_name": "HBoxView",
            "_dom_classes": [],
            "_model_name": "HBoxModel",
            "_view_module": "@jupyter-widgets/controls",
            "_model_module_version": "1.5.0",
            "_view_count": null,
            "_view_module_version": "1.5.0",
            "box_style": "",
            "layout": "IPY_MODEL_b6cbe391e9f24aa38e5dcd18bbae494a",
            "_model_module": "@jupyter-widgets/controls",
            "children": [
              "IPY_MODEL_2bb6233e0a89456dba0ab4d78284f064",
              "IPY_MODEL_e595f8320c984514bade14cc121f3b52"
            ]
          }
        },
        "b6cbe391e9f24aa38e5dcd18bbae494a": {
          "model_module": "@jupyter-widgets/base",
          "model_name": "LayoutModel",
          "state": {
            "_view_name": "LayoutView",
            "grid_template_rows": null,
            "right": null,
            "justify_content": null,
            "_view_module": "@jupyter-widgets/base",
            "overflow": null,
            "_model_module_version": "1.2.0",
            "_view_count": null,
            "flex_flow": null,
            "width": null,
            "min_width": null,
            "border": null,
            "align_items": null,
            "bottom": null,
            "_model_module": "@jupyter-widgets/base",
            "top": null,
            "grid_column": null,
            "overflow_y": null,
            "overflow_x": null,
            "grid_auto_flow": null,
            "grid_area": null,
            "grid_template_columns": null,
            "flex": null,
            "_model_name": "LayoutModel",
            "justify_items": null,
            "grid_row": null,
            "max_height": null,
            "align_content": null,
            "visibility": null,
            "align_self": null,
            "height": null,
            "min_height": null,
            "padding": null,
            "grid_auto_rows": null,
            "grid_gap": null,
            "max_width": null,
            "order": null,
            "_view_module_version": "1.2.0",
            "grid_template_areas": null,
            "object_position": null,
            "object_fit": null,
            "grid_auto_columns": null,
            "margin": null,
            "display": null,
            "left": null
          }
        },
        "2bb6233e0a89456dba0ab4d78284f064": {
          "model_module": "@jupyter-widgets/controls",
          "model_name": "FloatProgressModel",
          "state": {
            "_view_name": "ProgressView",
            "style": "IPY_MODEL_4ed749629f9544f7bdcb5994769445d7",
            "_dom_classes": [],
            "description": "100%",
            "_model_name": "FloatProgressModel",
            "bar_style": "success",
            "max": 46827520,
            "_view_module": "@jupyter-widgets/controls",
            "_model_module_version": "1.5.0",
            "value": 46827520,
            "_view_count": null,
            "_view_module_version": "1.5.0",
            "orientation": "horizontal",
            "min": 0,
            "description_tooltip": null,
            "_model_module": "@jupyter-widgets/controls",
            "layout": "IPY_MODEL_b865b7cefab54539bde10717af8aa0aa"
          }
        },
        "e595f8320c984514bade14cc121f3b52": {
          "model_module": "@jupyter-widgets/controls",
          "model_name": "HTMLModel",
          "state": {
            "_view_name": "HTMLView",
            "style": "IPY_MODEL_f583fa5411044e05a9cddaac40e672ce",
            "_dom_classes": [],
            "description": "",
            "_model_name": "HTMLModel",
            "placeholder": "​",
            "_view_module": "@jupyter-widgets/controls",
            "_model_module_version": "1.5.0",
            "value": " 44.7M/44.7M [00:35&lt;00:00, 1.30MB/s]",
            "_view_count": null,
            "_view_module_version": "1.5.0",
            "description_tooltip": null,
            "_model_module": "@jupyter-widgets/controls",
            "layout": "IPY_MODEL_9943b1c689b34e8db7f93ca04685941c"
          }
        },
        "4ed749629f9544f7bdcb5994769445d7": {
          "model_module": "@jupyter-widgets/controls",
          "model_name": "ProgressStyleModel",
          "state": {
            "_view_name": "StyleView",
            "_model_name": "ProgressStyleModel",
            "description_width": "initial",
            "_view_module": "@jupyter-widgets/base",
            "_model_module_version": "1.5.0",
            "_view_count": null,
            "_view_module_version": "1.2.0",
            "bar_color": null,
            "_model_module": "@jupyter-widgets/controls"
          }
        },
        "b865b7cefab54539bde10717af8aa0aa": {
          "model_module": "@jupyter-widgets/base",
          "model_name": "LayoutModel",
          "state": {
            "_view_name": "LayoutView",
            "grid_template_rows": null,
            "right": null,
            "justify_content": null,
            "_view_module": "@jupyter-widgets/base",
            "overflow": null,
            "_model_module_version": "1.2.0",
            "_view_count": null,
            "flex_flow": null,
            "width": null,
            "min_width": null,
            "border": null,
            "align_items": null,
            "bottom": null,
            "_model_module": "@jupyter-widgets/base",
            "top": null,
            "grid_column": null,
            "overflow_y": null,
            "overflow_x": null,
            "grid_auto_flow": null,
            "grid_area": null,
            "grid_template_columns": null,
            "flex": null,
            "_model_name": "LayoutModel",
            "justify_items": null,
            "grid_row": null,
            "max_height": null,
            "align_content": null,
            "visibility": null,
            "align_self": null,
            "height": null,
            "min_height": null,
            "padding": null,
            "grid_auto_rows": null,
            "grid_gap": null,
            "max_width": null,
            "order": null,
            "_view_module_version": "1.2.0",
            "grid_template_areas": null,
            "object_position": null,
            "object_fit": null,
            "grid_auto_columns": null,
            "margin": null,
            "display": null,
            "left": null
          }
        },
        "f583fa5411044e05a9cddaac40e672ce": {
          "model_module": "@jupyter-widgets/controls",
          "model_name": "DescriptionStyleModel",
          "state": {
            "_view_name": "StyleView",
            "_model_name": "DescriptionStyleModel",
            "description_width": "",
            "_view_module": "@jupyter-widgets/base",
            "_model_module_version": "1.5.0",
            "_view_count": null,
            "_view_module_version": "1.2.0",
            "_model_module": "@jupyter-widgets/controls"
          }
        },
        "9943b1c689b34e8db7f93ca04685941c": {
          "model_module": "@jupyter-widgets/base",
          "model_name": "LayoutModel",
          "state": {
            "_view_name": "LayoutView",
            "grid_template_rows": null,
            "right": null,
            "justify_content": null,
            "_view_module": "@jupyter-widgets/base",
            "overflow": null,
            "_model_module_version": "1.2.0",
            "_view_count": null,
            "flex_flow": null,
            "width": null,
            "min_width": null,
            "border": null,
            "align_items": null,
            "bottom": null,
            "_model_module": "@jupyter-widgets/base",
            "top": null,
            "grid_column": null,
            "overflow_y": null,
            "overflow_x": null,
            "grid_auto_flow": null,
            "grid_area": null,
            "grid_template_columns": null,
            "flex": null,
            "_model_name": "LayoutModel",
            "justify_items": null,
            "grid_row": null,
            "max_height": null,
            "align_content": null,
            "visibility": null,
            "align_self": null,
            "height": null,
            "min_height": null,
            "padding": null,
            "grid_auto_rows": null,
            "grid_gap": null,
            "max_width": null,
            "order": null,
            "_view_module_version": "1.2.0",
            "grid_template_areas": null,
            "object_position": null,
            "object_fit": null,
            "grid_auto_columns": null,
            "margin": null,
            "display": null,
            "left": null
          }
        }
      }
    }
  },
  "cells": [
    {
      "cell_type": "markdown",
      "metadata": {
        "id": "view-in-github",
        "colab_type": "text"
      },
      "source": [
        "<a href=\"https://colab.research.google.com/github/ajuhz/Artificial-Intelligence/blob/master/Transfer_Learning_with_Pytorch.ipynb\" target=\"_parent\"><img src=\"https://colab.research.google.com/assets/colab-badge.svg\" alt=\"Open In Colab\"/></a>"
      ]
    },
    {
      "cell_type": "markdown",
      "metadata": {
        "id": "0jscktdMyhMV",
        "colab_type": "text"
      },
      "source": [
        "Note: This is a simplified and more explainable version from: https://pytorch.org/tutorials/beginner/transfer_learning_tutorial.html"
      ]
    },
    {
      "cell_type": "code",
      "metadata": {
        "id": "6N6WkABDj7jK",
        "colab_type": "code",
        "colab": {}
      },
      "source": [
        "import torch\n",
        "import torch.nn as nn\n",
        "import torch.optim as optim\n",
        "from torch.optim import lr_scheduler\n",
        "import torchvision\n",
        "from torch.autograd import Variable\n",
        "from torchvision import datasets, models, transforms\n",
        "import os\n",
        "import numpy as np"
      ],
      "execution_count": 2,
      "outputs": []
    },
    {
      "cell_type": "code",
      "metadata": {
        "id": "k_eCKNWkyxFR",
        "colab_type": "code",
        "colab": {}
      },
      "source": [
        "#Data Augmentation and normalization for training\n",
        "\n",
        "# Data augmentation and normalization for training\n",
        "# Just normalization for validation\n",
        "#class torchvision.transforms.RandomResizedCrop(size, scale=(0.08, 1.0), ratio=(0.75, 1.3333333333333333), interpolation=2)\n",
        "#transforms.RandomResizedCrop(224) --> A crop of random size (default: of 0.08 to 1.0) of the original size and a \n",
        "#random aspect ratio (default: of 3/4 to 4/3) of the original aspect ratio is made. \n",
        "#This crop is finally resized to given size (224 in this case). \n",
        "#transforms.CenterCrop(224)--> Crops the image at the center. 224 is the Desired output size of the crop.\n",
        "#class torchvision.transforms.Normalize(mean, std)\n",
        "#Normalize a tensor image with mean and standard deviation. Given mean: (M1,...,Mn) and std: (S1,..,Sn) for n channels, \n",
        "#this transform will normalize each channel of the input torch.Tensor i.e. \n",
        "#input[channel] = (input[channel] - mean[channel]) / std[channel]\n",
        "#Parameters:     mean (sequence) – Sequence of means for each channel.\n",
        "#                std (sequence) – Sequence of standard deviations for each channel.\n",
        "data_transforms={'train':transforms.Compose([transforms.RandomResizedCrop(224),\n",
        "                                             transforms.RandomHorizontalFlip(),\n",
        "                                             transforms.ToTensor(),\n",
        "                                             transforms.Normalize([0.485, 0.456, 0.406], [0.229, 0.224, 0.225])]),\n",
        "                 'val' : transforms.Compose([transforms.Resize(256),\n",
        "                                            transforms.CenterCrop(224),\n",
        "                                            transforms.ToTensor(),\n",
        "                                            transforms.Normalize([0.485, 0.456, 0.406], [0.229, 0.224, 0.225])]),}"
      ],
      "execution_count": 5,
      "outputs": []
    },
    {
      "cell_type": "code",
      "metadata": {
        "id": "63HnUuE_0ip-",
        "colab_type": "code",
        "colab": {
          "base_uri": "https://localhost:8080/",
          "height": 34
        },
        "outputId": "494e55af-9c75-4c90-f5a2-d3dca25edf94"
      },
      "source": [
        "!pwd"
      ],
      "execution_count": 6,
      "outputs": [
        {
          "output_type": "stream",
          "text": [
            "/content\n"
          ],
          "name": "stdout"
        }
      ]
    },
    {
      "cell_type": "code",
      "metadata": {
        "id": "xUrMTjSE1LIw",
        "colab_type": "code",
        "colab": {
          "base_uri": "https://localhost:8080/",
          "height": 34
        },
        "outputId": "273e1f76-0b93-4424-c765-2c15193d4dc7"
      },
      "source": [
        "%cd /content/drive/My Drive/Python"
      ],
      "execution_count": 10,
      "outputs": [
        {
          "output_type": "stream",
          "text": [
            "/content/drive/My Drive/Python\n"
          ],
          "name": "stdout"
        }
      ]
    },
    {
      "cell_type": "code",
      "metadata": {
        "id": "mLZf1kU21P3h",
        "colab_type": "code",
        "colab": {}
      },
      "source": [
        "data_dir = 'hymenoptera_data'"
      ],
      "execution_count": 11,
      "outputs": []
    },
    {
      "cell_type": "code",
      "metadata": {
        "id": "8vSrSRVW1rcO",
        "colab_type": "code",
        "colab": {}
      },
      "source": [
        "#Create a dictionary that contains the information of the images in both the training and validation set\n",
        "image_datasets = {x: datasets.ImageFolder(os.path.join(data_dir, x),data_transforms[x]) for x in ['train', 'val']}\n",
        "#Create a dictionary that contians the data loader\n",
        "dataloaders = {x: torch.utils.data.DataLoader(image_datasets[x], \n",
        "                                              batch_size=4,\n",
        "                                              shuffle=True) for x in ['train', 'val']}"
      ],
      "execution_count": 12,
      "outputs": []
    },
    {
      "cell_type": "code",
      "metadata": {
        "id": "c-IgFFnY1zYB",
        "colab_type": "code",
        "colab": {
          "base_uri": "https://localhost:8080/",
          "height": 71
        },
        "outputId": "dce7ba9d-e4d7-4f14-9bf3-8bd027530d50"
      },
      "source": [
        "print(image_datasets['train'].classes)\n",
        "print(image_datasets['train'].imgs)\n"
      ],
      "execution_count": 20,
      "outputs": [
        {
          "output_type": "stream",
          "text": [
            "['ants', 'bees']\n",
            "[('hymenoptera_data/train/ants/0013035.jpg', 0), ('hymenoptera_data/train/ants/1030023514_aad5c608f9.jpg', 0), ('hymenoptera_data/train/ants/1095476100_3906d8afde.jpg', 0), ('hymenoptera_data/train/ants/1099452230_d1949d3250.jpg', 0), ('hymenoptera_data/train/ants/116570827_e9c126745d.jpg', 0), ('hymenoptera_data/train/ants/1225872729_6f0856588f.jpg', 0), ('hymenoptera_data/train/ants/1262877379_64fcada201.jpg', 0), ('hymenoptera_data/train/ants/1269756697_0bce92cdab.jpg', 0), ('hymenoptera_data/train/ants/1286984635_5119e80de1.jpg', 0), ('hymenoptera_data/train/ants/132478121_2a430adea2.jpg', 0), ('hymenoptera_data/train/ants/1360291657_dc248c5eea.jpg', 0), ('hymenoptera_data/train/ants/1368913450_e146e2fb6d.jpg', 0), ('hymenoptera_data/train/ants/1473187633_63ccaacea6.jpg', 0), ('hymenoptera_data/train/ants/148715752_302c84f5a4.jpg', 0), ('hymenoptera_data/train/ants/1489674356_09d48dde0a.jpg', 0), ('hymenoptera_data/train/ants/149244013_c529578289.jpg', 0), ('hymenoptera_data/train/ants/150801003_3390b73135.jpg', 0), ('hymenoptera_data/train/ants/150801171_cd86f17ed8.jpg', 0), ('hymenoptera_data/train/ants/154124431_65460430f2.jpg', 0), ('hymenoptera_data/train/ants/162603798_40b51f1654.jpg', 0), ('hymenoptera_data/train/ants/1660097129_384bf54490.jpg', 0), ('hymenoptera_data/train/ants/167890289_dd5ba923f3.jpg', 0), ('hymenoptera_data/train/ants/1693954099_46d4c20605.jpg', 0), ('hymenoptera_data/train/ants/175998972.jpg', 0), ('hymenoptera_data/train/ants/178538489_bec7649292.jpg', 0), ('hymenoptera_data/train/ants/1804095607_0341701e1c.jpg', 0), ('hymenoptera_data/train/ants/1808777855_2a895621d7.jpg', 0), ('hymenoptera_data/train/ants/188552436_605cc9b36b.jpg', 0), ('hymenoptera_data/train/ants/1917341202_d00a7f9af5.jpg', 0), ('hymenoptera_data/train/ants/1924473702_daa9aacdbe.jpg', 0), ('hymenoptera_data/train/ants/196057951_63bf063b92.jpg', 0), ('hymenoptera_data/train/ants/196757565_326437f5fe.jpg', 0), ('hymenoptera_data/train/ants/201558278_fe4caecc76.jpg', 0), ('hymenoptera_data/train/ants/201790779_527f4c0168.jpg', 0), ('hymenoptera_data/train/ants/2019439677_2db655d361.jpg', 0), ('hymenoptera_data/train/ants/207947948_3ab29d7207.jpg', 0), ('hymenoptera_data/train/ants/20935278_9190345f6b.jpg', 0), ('hymenoptera_data/train/ants/224655713_3956f7d39a.jpg', 0), ('hymenoptera_data/train/ants/2265824718_2c96f485da.jpg', 0), ('hymenoptera_data/train/ants/2265825502_fff99cfd2d.jpg', 0), ('hymenoptera_data/train/ants/226951206_d6bf946504.jpg', 0), ('hymenoptera_data/train/ants/2278278459_6b99605e50.jpg', 0), ('hymenoptera_data/train/ants/2288450226_a6e96e8fdf.jpg', 0), ('hymenoptera_data/train/ants/2288481644_83ff7e4572.jpg', 0), ('hymenoptera_data/train/ants/2292213964_ca51ce4bef.jpg', 0), ('hymenoptera_data/train/ants/24335309_c5ea483bb8.jpg', 0), ('hymenoptera_data/train/ants/245647475_9523dfd13e.jpg', 0), ('hymenoptera_data/train/ants/255434217_1b2b3fe0a4.jpg', 0), ('hymenoptera_data/train/ants/258217966_d9d90d18d3.jpg', 0), ('hymenoptera_data/train/ants/275429470_b2d7d9290b.jpg', 0), ('hymenoptera_data/train/ants/28847243_e79fe052cd.jpg', 0), ('hymenoptera_data/train/ants/318052216_84dff3f98a.jpg', 0), ('hymenoptera_data/train/ants/334167043_cbd1adaeb9.jpg', 0), ('hymenoptera_data/train/ants/339670531_94b75ae47a.jpg', 0), ('hymenoptera_data/train/ants/342438950_a3da61deab.jpg', 0), ('hymenoptera_data/train/ants/36439863_0bec9f554f.jpg', 0), ('hymenoptera_data/train/ants/374435068_7eee412ec4.jpg', 0), ('hymenoptera_data/train/ants/382971067_0bfd33afe0.jpg', 0), ('hymenoptera_data/train/ants/384191229_5779cf591b.jpg', 0), ('hymenoptera_data/train/ants/386190770_672743c9a7.jpg', 0), ('hymenoptera_data/train/ants/392382602_1b7bed32fa.jpg', 0), ('hymenoptera_data/train/ants/403746349_71384f5b58.jpg', 0), ('hymenoptera_data/train/ants/408393566_b5b694119b.jpg', 0), ('hymenoptera_data/train/ants/424119020_6d57481dab.jpg', 0), ('hymenoptera_data/train/ants/424873399_47658a91fb.jpg', 0), ('hymenoptera_data/train/ants/450057712_771b3bfc91.jpg', 0), ('hymenoptera_data/train/ants/45472593_bfd624f8dc.jpg', 0), ('hymenoptera_data/train/ants/459694881_ac657d3187.jpg', 0), ('hymenoptera_data/train/ants/460372577_f2f6a8c9fc.jpg', 0), ('hymenoptera_data/train/ants/460874319_0a45ab4d05.jpg', 0), ('hymenoptera_data/train/ants/466430434_4000737de9.jpg', 0), ('hymenoptera_data/train/ants/470127037_513711fd21.jpg', 0), ('hymenoptera_data/train/ants/474806473_ca6caab245.jpg', 0), ('hymenoptera_data/train/ants/475961153_b8c13fd405.jpg', 0), ('hymenoptera_data/train/ants/484293231_e53cfc0c89.jpg', 0), ('hymenoptera_data/train/ants/49375974_e28ba6f17e.jpg', 0), ('hymenoptera_data/train/ants/506249802_207cd979b4.jpg', 0), ('hymenoptera_data/train/ants/506249836_717b73f540.jpg', 0), ('hymenoptera_data/train/ants/512164029_c0a66b8498.jpg', 0), ('hymenoptera_data/train/ants/512863248_43c8ce579b.jpg', 0), ('hymenoptera_data/train/ants/518773929_734dbc5ff4.jpg', 0), ('hymenoptera_data/train/ants/522163566_fec115ca66.jpg', 0), ('hymenoptera_data/train/ants/522415432_2218f34bf8.jpg', 0), ('hymenoptera_data/train/ants/531979952_bde12b3bc0.jpg', 0), ('hymenoptera_data/train/ants/533848102_70a85ad6dd.jpg', 0), ('hymenoptera_data/train/ants/535522953_308353a07c.jpg', 0), ('hymenoptera_data/train/ants/540889389_48bb588b21.jpg', 0), ('hymenoptera_data/train/ants/541630764_dbd285d63c.jpg', 0), ('hymenoptera_data/train/ants/543417860_b14237f569.jpg', 0), ('hymenoptera_data/train/ants/560966032_988f4d7bc4.jpg', 0), ('hymenoptera_data/train/ants/5650366_e22b7e1065.jpg', 0), ('hymenoptera_data/train/ants/6240329_72c01e663e.jpg', 0), ('hymenoptera_data/train/ants/6240338_93729615ec.jpg', 0), ('hymenoptera_data/train/ants/649026570_e58656104b.jpg', 0), ('hymenoptera_data/train/ants/662541407_ff8db781e7.jpg', 0), ('hymenoptera_data/train/ants/67270775_e9fdf77e9d.jpg', 0), ('hymenoptera_data/train/ants/6743948_2b8c096dda.jpg', 0), ('hymenoptera_data/train/ants/684133190_35b62c0c1d.jpg', 0), ('hymenoptera_data/train/ants/69639610_95e0de17aa.jpg', 0), ('hymenoptera_data/train/ants/707895295_009cf23188.jpg', 0), ('hymenoptera_data/train/ants/7759525_1363d24e88.jpg', 0), ('hymenoptera_data/train/ants/795000156_a9900a4a71.jpg', 0), ('hymenoptera_data/train/ants/822537660_caf4ba5514.jpg', 0), ('hymenoptera_data/train/ants/82852639_52b7f7f5e3.jpg', 0), ('hymenoptera_data/train/ants/841049277_b28e58ad05.jpg', 0), ('hymenoptera_data/train/ants/886401651_f878e888cd.jpg', 0), ('hymenoptera_data/train/ants/892108839_f1aad4ca46.jpg', 0), ('hymenoptera_data/train/ants/938946700_ca1c669085.jpg', 0), ('hymenoptera_data/train/ants/957233405_25c1d1187b.jpg', 0), ('hymenoptera_data/train/ants/9715481_b3cb4114ff.jpg', 0), ('hymenoptera_data/train/ants/998118368_6ac1d91f81.jpg', 0), ('hymenoptera_data/train/ants/Ant_1.jpg', 0), ('hymenoptera_data/train/ants/MehdiabadiAnt2_600.jpg', 0), ('hymenoptera_data/train/ants/Nepenthes_rafflesiana_ant.jpg', 0), ('hymenoptera_data/train/ants/VietnameseAntMimicSpider.jpg', 0), ('hymenoptera_data/train/ants/ant photos.jpg', 0), ('hymenoptera_data/train/ants/army-ants-red-picture.jpg', 0), ('hymenoptera_data/train/ants/formica.jpeg', 0), ('hymenoptera_data/train/ants/hormiga_co_por.jpg', 0), ('hymenoptera_data/train/ants/kurokusa.jpg', 0), ('hymenoptera_data/train/ants/swiss-army-ant.jpg', 0), ('hymenoptera_data/train/ants/termite-vs-ant.jpg', 0), ('hymenoptera_data/train/ants/trap-jaw-ant-insect-bg.jpg', 0), ('hymenoptera_data/train/bees/1092977343_cb42b38d62.jpg', 1), ('hymenoptera_data/train/bees/1093831624_fb5fbe2308.jpg', 1), ('hymenoptera_data/train/bees/1097045929_1753d1c765.jpg', 1), ('hymenoptera_data/train/bees/1232245714_f862fbe385.jpg', 1), ('hymenoptera_data/train/bees/129236073_0985e91c7d.jpg', 1), ('hymenoptera_data/train/bees/1295655112_7813f37d21.jpg', 1), ('hymenoptera_data/train/bees/132511197_0b86ad0fff.jpg', 1), ('hymenoptera_data/train/bees/132826773_dbbcb117b9.jpg', 1), ('hymenoptera_data/train/bees/150013791_969d9a968b.jpg', 1), ('hymenoptera_data/train/bees/1508176360_2972117c9d.jpg', 1), ('hymenoptera_data/train/bees/154600396_53e1252e52.jpg', 1), ('hymenoptera_data/train/bees/16838648_415acd9e3f.jpg', 1), ('hymenoptera_data/train/bees/1691282715_0addfdf5e8.jpg', 1), ('hymenoptera_data/train/bees/17209602_fe5a5a746f.jpg', 1), ('hymenoptera_data/train/bees/174142798_e5ad6d76e0.jpg', 1), ('hymenoptera_data/train/bees/1799726602_8580867f71.jpg', 1), ('hymenoptera_data/train/bees/1807583459_4fe92b3133.jpg', 1), ('hymenoptera_data/train/bees/196430254_46bd129ae7.jpg', 1), ('hymenoptera_data/train/bees/196658222_3fffd79c67.jpg', 1), ('hymenoptera_data/train/bees/198508668_97d818b6c4.jpg', 1), ('hymenoptera_data/train/bees/2031225713_50ed499635.jpg', 1), ('hymenoptera_data/train/bees/2037437624_2d7bce461f.jpg', 1), ('hymenoptera_data/train/bees/2053200300_8911ef438a.jpg', 1), ('hymenoptera_data/train/bees/205835650_e6f2614bee.jpg', 1), ('hymenoptera_data/train/bees/208702903_42fb4d9748.jpg', 1), ('hymenoptera_data/train/bees/21399619_3e61e5bb6f.jpg', 1), ('hymenoptera_data/train/bees/2227611847_ec72d40403.jpg', 1), ('hymenoptera_data/train/bees/2321139806_d73d899e66.jpg', 1), ('hymenoptera_data/train/bees/2330918208_8074770c20.jpg', 1), ('hymenoptera_data/train/bees/2345177635_caf07159b3.jpg', 1), ('hymenoptera_data/train/bees/2358061370_9daabbd9ac.jpg', 1), ('hymenoptera_data/train/bees/2364597044_3c3e3fc391.jpg', 1), ('hymenoptera_data/train/bees/2384149906_2cd8b0b699.jpg', 1), ('hymenoptera_data/train/bees/2397446847_04ef3cd3e1.jpg', 1), ('hymenoptera_data/train/bees/2405441001_b06c36fa72.jpg', 1), ('hymenoptera_data/train/bees/2445215254_51698ff797.jpg', 1), ('hymenoptera_data/train/bees/2452236943_255bfd9e58.jpg', 1), ('hymenoptera_data/train/bees/2467959963_a7831e9ff0.jpg', 1), ('hymenoptera_data/train/bees/2470492904_837e97800d.jpg', 1), ('hymenoptera_data/train/bees/2477324698_3d4b1b1cab.jpg', 1), ('hymenoptera_data/train/bees/2477349551_e75c97cf4d.jpg', 1), ('hymenoptera_data/train/bees/2486729079_62df0920be.jpg', 1), ('hymenoptera_data/train/bees/2486746709_c43cec0e42.jpg', 1), ('hymenoptera_data/train/bees/2493379287_4100e1dacc.jpg', 1), ('hymenoptera_data/train/bees/2495722465_879acf9d85.jpg', 1), ('hymenoptera_data/train/bees/2528444139_fa728b0f5b.jpg', 1), ('hymenoptera_data/train/bees/2538361678_9da84b77e3.jpg', 1), ('hymenoptera_data/train/bees/2551813042_8a070aeb2b.jpg', 1), ('hymenoptera_data/train/bees/2580598377_a4caecdb54.jpg', 1), ('hymenoptera_data/train/bees/2601176055_8464e6aa71.jpg', 1), ('hymenoptera_data/train/bees/2610833167_79bf0bcae5.jpg', 1), ('hymenoptera_data/train/bees/2610838525_fe8e3cae47.jpg', 1), ('hymenoptera_data/train/bees/2617161745_fa3ebe85b4.jpg', 1), ('hymenoptera_data/train/bees/2625499656_e3415e374d.jpg', 1), ('hymenoptera_data/train/bees/2634617358_f32fd16bea.jpg', 1), ('hymenoptera_data/train/bees/2638074627_6b3ae746a0.jpg', 1), ('hymenoptera_data/train/bees/2645107662_b73a8595cc.jpg', 1), ('hymenoptera_data/train/bees/2651621464_a2fa8722eb.jpg', 1), ('hymenoptera_data/train/bees/2652877533_a564830cbf.jpg', 1), ('hymenoptera_data/train/bees/266644509_d30bb16a1b.jpg', 1), ('hymenoptera_data/train/bees/2683605182_9d2a0c66cf.jpg', 1), ('hymenoptera_data/train/bees/2704348794_eb5d5178c2.jpg', 1), ('hymenoptera_data/train/bees/2707440199_cd170bd512.jpg', 1), ('hymenoptera_data/train/bees/2710368626_cb42882dc8.jpg', 1), ('hymenoptera_data/train/bees/2722592222_258d473e17.jpg', 1), ('hymenoptera_data/train/bees/2728759455_ce9bb8cd7a.jpg', 1), ('hymenoptera_data/train/bees/2756397428_1d82a08807.jpg', 1), ('hymenoptera_data/train/bees/2765347790_da6cf6cb40.jpg', 1), ('hymenoptera_data/train/bees/2781170484_5d61835d63.jpg', 1), ('hymenoptera_data/train/bees/279113587_b4843db199.jpg', 1), ('hymenoptera_data/train/bees/2792000093_e8ae0718cf.jpg', 1), ('hymenoptera_data/train/bees/2801728106_833798c909.jpg', 1), ('hymenoptera_data/train/bees/2822388965_f6dca2a275.jpg', 1), ('hymenoptera_data/train/bees/2861002136_52c7c6f708.jpg', 1), ('hymenoptera_data/train/bees/2908916142_a7ac8b57a8.jpg', 1), ('hymenoptera_data/train/bees/29494643_e3410f0d37.jpg', 1), ('hymenoptera_data/train/bees/2959730355_416a18c63c.jpg', 1), ('hymenoptera_data/train/bees/2962405283_22718d9617.jpg', 1), ('hymenoptera_data/train/bees/3006264892_30e9cced70.jpg', 1), ('hymenoptera_data/train/bees/3030189811_01d095b793.jpg', 1), ('hymenoptera_data/train/bees/3030772428_8578335616.jpg', 1), ('hymenoptera_data/train/bees/3044402684_3853071a87.jpg', 1), ('hymenoptera_data/train/bees/3074585407_9854eb3153.jpg', 1), ('hymenoptera_data/train/bees/3079610310_ac2d0ae7bc.jpg', 1), ('hymenoptera_data/train/bees/3090975720_71f12e6de4.jpg', 1), ('hymenoptera_data/train/bees/3100226504_c0d4f1e3f1.jpg', 1), ('hymenoptera_data/train/bees/342758693_c56b89b6b6.jpg', 1), ('hymenoptera_data/train/bees/354167719_22dca13752.jpg', 1), ('hymenoptera_data/train/bees/359928878_b3b418c728.jpg', 1), ('hymenoptera_data/train/bees/365759866_b15700c59b.jpg', 1), ('hymenoptera_data/train/bees/36900412_92b81831ad.jpg', 1), ('hymenoptera_data/train/bees/39672681_1302d204d1.jpg', 1), ('hymenoptera_data/train/bees/39747887_42df2855ee.jpg', 1), ('hymenoptera_data/train/bees/421515404_e87569fd8b.jpg', 1), ('hymenoptera_data/train/bees/444532809_9e931e2279.jpg', 1), ('hymenoptera_data/train/bees/446296270_d9e8b93ecf.jpg', 1), ('hymenoptera_data/train/bees/452462677_7be43af8ff.jpg', 1), ('hymenoptera_data/train/bees/452462695_40a4e5b559.jpg', 1), ('hymenoptera_data/train/bees/457457145_5f86eb7e9c.jpg', 1), ('hymenoptera_data/train/bees/465133211_80e0c27f60.jpg', 1), ('hymenoptera_data/train/bees/469333327_358ba8fe8a.jpg', 1), ('hymenoptera_data/train/bees/472288710_2abee16fa0.jpg', 1), ('hymenoptera_data/train/bees/473618094_8ffdcab215.jpg', 1), ('hymenoptera_data/train/bees/476347960_52edd72b06.jpg', 1), ('hymenoptera_data/train/bees/478701318_bbd5e557b8.jpg', 1), ('hymenoptera_data/train/bees/507288830_f46e8d4cb2.jpg', 1), ('hymenoptera_data/train/bees/509247772_2db2d01374.jpg', 1), ('hymenoptera_data/train/bees/513545352_fd3e7c7c5d.jpg', 1), ('hymenoptera_data/train/bees/522104315_5d3cb2758e.jpg', 1), ('hymenoptera_data/train/bees/537309131_532bfa59ea.jpg', 1), ('hymenoptera_data/train/bees/586041248_3032e277a9.jpg', 1), ('hymenoptera_data/train/bees/760526046_547e8b381f.jpg', 1), ('hymenoptera_data/train/bees/760568592_45a52c847f.jpg', 1), ('hymenoptera_data/train/bees/774440991_63a4aa0cbe.jpg', 1), ('hymenoptera_data/train/bees/85112639_6e860b0469.jpg', 1), ('hymenoptera_data/train/bees/873076652_eb098dab2d.jpg', 1), ('hymenoptera_data/train/bees/90179376_abc234e5f4.jpg', 1), ('hymenoptera_data/train/bees/92663402_37f379e57a.jpg', 1), ('hymenoptera_data/train/bees/95238259_98470c5b10.jpg', 1), ('hymenoptera_data/train/bees/969455125_58c797ef17.jpg', 1), ('hymenoptera_data/train/bees/98391118_bdb1e80cce.jpg', 1)]\n"
          ],
          "name": "stdout"
        }
      ]
    },
    {
      "cell_type": "code",
      "metadata": {
        "id": "GQxyUrj312LL",
        "colab_type": "code",
        "colab": {
          "base_uri": "https://localhost:8080/",
          "height": 1000
        },
        "outputId": "077fdb58-ed87-4dd1-c10d-c2a8523bbd05"
      },
      "source": [
        "next(iter(dataloaders['train']))"
      ],
      "execution_count": 35,
      "outputs": [
        {
          "output_type": "execute_result",
          "data": {
            "text/plain": [
              "[tensor([[[[-0.0458, -0.0458, -0.0458,  ...,  1.0844,  1.0502,  1.0673],\n",
              "           [-0.0116, -0.0116, -0.0287,  ...,  1.0844,  1.0502,  1.0331],\n",
              "           [ 0.0056,  0.0056, -0.0116,  ...,  1.0844,  1.0502,  0.9817],\n",
              "           ...,\n",
              "           [-0.1999, -0.1314, -0.1828,  ...,  0.8447,  0.8276,  0.8789],\n",
              "           [-0.1999, -0.1828, -0.1828,  ...,  0.7762,  0.7591,  0.8104],\n",
              "           [-0.2171, -0.2171, -0.1828,  ...,  0.7419,  0.7077,  0.7248]],\n",
              " \n",
              "          [[ 0.1001,  0.1001,  0.1001,  ...,  1.2906,  1.2556,  1.2556],\n",
              "           [ 0.1176,  0.1176,  0.1001,  ...,  1.2906,  1.2556,  1.2206],\n",
              "           [ 0.1176,  0.1176,  0.1001,  ...,  1.2906,  1.2556,  1.1681],\n",
              "           ...,\n",
              "           [-0.2500, -0.1800, -0.2325,  ...,  0.9230,  0.9055,  1.0280],\n",
              "           [-0.2500, -0.2325, -0.2325,  ...,  0.8704,  0.8354,  0.9230],\n",
              "           [-0.2675, -0.2675, -0.2325,  ...,  0.8354,  0.8004,  0.8179]],\n",
              " \n",
              "          [[ 0.0082,  0.0082,  0.0082,  ...,  1.1759,  1.1411,  1.1062],\n",
              "           [ 0.0256,  0.0256,  0.0082,  ...,  1.1585,  1.1237,  1.0714],\n",
              "           [ 0.0256,  0.0256,  0.0082,  ...,  1.1585,  1.1062,  1.0017],\n",
              "           ...,\n",
              "           [-0.4973, -0.4275, -0.4624,  ...,  0.4962,  0.4439,  0.4788],\n",
              "           [-0.4973, -0.4798, -0.4624,  ...,  0.4614,  0.4091,  0.3568],\n",
              "           [-0.5147, -0.5147, -0.4624,  ...,  0.4614,  0.3916,  0.2522]]],\n",
              " \n",
              " \n",
              "         [[[ 1.2728,  1.9578,  2.2318,  ...,  0.9132,  0.9646,  1.0331],\n",
              "           [ 1.2728,  1.9578,  2.2318,  ...,  0.9132,  0.9988,  1.0673],\n",
              "           [ 1.2728,  1.9578,  2.2318,  ...,  0.9303,  1.0159,  1.0673],\n",
              "           ...,\n",
              "           [ 1.2728,  1.9578,  2.2318,  ...,  0.3481,  0.3823,  0.5364],\n",
              "           [ 1.2728,  1.9578,  2.2318,  ...,  0.1939,  0.1939,  0.2282],\n",
              "           [ 1.2728,  1.9578,  2.2318,  ...,  0.0741, -0.0287, -0.0972]],\n",
              " \n",
              "          [[ 1.4307,  2.1310,  2.4111,  ...,  0.1527,  0.2052,  0.2752],\n",
              "           [ 1.4307,  2.1310,  2.4111,  ...,  0.1527,  0.2402,  0.3102],\n",
              "           [ 1.4307,  2.1310,  2.4111,  ...,  0.1702,  0.2577,  0.3102],\n",
              "           ...,\n",
              "           [ 1.4307,  2.1310,  2.4111,  ..., -0.1099, -0.1099,  0.0301],\n",
              "           [ 1.4307,  2.1310,  2.4111,  ..., -0.3550, -0.3375, -0.2850],\n",
              "           [ 1.4307,  2.1310,  2.4111,  ..., -0.5126, -0.6001, -0.6176]],\n",
              " \n",
              "          [[ 1.6465,  2.3437,  2.6226,  ..., -0.9156, -0.8807, -0.8284],\n",
              "           [ 1.6465,  2.3437,  2.6226,  ..., -0.9156, -0.8633, -0.7936],\n",
              "           [ 1.6465,  2.3437,  2.6226,  ..., -0.8981, -0.8458, -0.7936],\n",
              "           ...,\n",
              "           [ 1.6465,  2.3437,  2.6226,  ..., -0.2881, -0.3753, -0.2184],\n",
              "           [ 1.6465,  2.3437,  2.6226,  ..., -0.5844, -0.6193, -0.5495],\n",
              "           [ 1.6465,  2.3437,  2.6226,  ..., -0.7936, -0.8807, -0.8981]]],\n",
              " \n",
              " \n",
              "         [[[ 1.6153,  1.6838,  1.8208,  ..., -2.1179, -2.1008, -2.0837],\n",
              "           [ 1.6153,  1.6838,  1.8208,  ..., -2.1179, -2.0837, -2.0494],\n",
              "           [ 1.6153,  1.6838,  1.8037,  ..., -2.0837, -2.0494, -2.0152],\n",
              "           ...,\n",
              "           [ 1.5468,  1.5810,  1.6495,  ...,  1.1187,  1.1015,  1.1015],\n",
              "           [ 1.5297,  1.5639,  1.6495,  ...,  1.0844,  1.1015,  1.1187],\n",
              "           [ 1.5297,  1.5639,  1.6495,  ...,  1.0502,  1.1015,  1.1358]],\n",
              " \n",
              "          [[ 1.8158,  1.8683,  1.9559,  ..., -2.0357, -2.0182, -2.0007],\n",
              "           [ 1.8158,  1.8683,  1.9559,  ..., -2.0007, -2.0007, -2.0007],\n",
              "           [ 1.8333,  1.8859,  1.9734,  ..., -1.9657, -1.9832, -2.0007],\n",
              "           ...,\n",
              "           [ 1.5882,  1.6232,  1.6933,  ...,  1.2906,  1.2556,  1.2381],\n",
              "           [ 1.5707,  1.6057,  1.6933,  ...,  1.2556,  1.2731,  1.2731],\n",
              "           [ 1.5707,  1.6057,  1.6933,  ...,  1.2381,  1.2731,  1.2906]],\n",
              " \n",
              "          [[ 1.2108,  1.3154,  1.4897,  ..., -1.8044, -1.7870, -1.7696],\n",
              "           [ 1.2108,  1.3154,  1.4897,  ..., -1.8044, -1.7870, -1.7696],\n",
              "           [ 1.2282,  1.3328,  1.5071,  ..., -1.8044, -1.7870, -1.7870],\n",
              "           ...,\n",
              "           [ 1.6988,  1.7337,  1.7685,  ...,  1.5245,  1.4200,  1.3677],\n",
              "           [ 1.6814,  1.7163,  1.7685,  ...,  1.5420,  1.4897,  1.4548],\n",
              "           [ 1.6814,  1.7163,  1.7685,  ...,  1.5420,  1.5245,  1.5071]]],\n",
              " \n",
              " \n",
              "         [[[ 1.6324,  1.5982,  1.6838,  ..., -0.7479, -0.8678, -0.9705],\n",
              "           [ 1.8722,  1.7009,  1.6838,  ..., -0.7650, -0.8849, -1.0390],\n",
              "           [ 2.0777,  1.9920,  1.9064,  ..., -0.8507, -0.9705, -1.0904],\n",
              "           ...,\n",
              "           [-1.0562, -1.0390, -1.0562,  ..., -0.7479, -0.7822, -0.7650],\n",
              "           [-1.0048, -1.0048, -1.1247,  ..., -0.7650, -0.7650, -0.7822],\n",
              "           [-1.1247, -1.1247, -1.2103,  ..., -0.7993, -0.7650, -0.7479]],\n",
              " \n",
              "          [[ 1.9559,  1.9559,  2.0259,  ...,  0.1352,  0.0826,  0.0126],\n",
              "           [ 2.1835,  2.0434,  1.9909,  ...,  0.1001,  0.0476, -0.0574],\n",
              "           [ 2.3761,  2.2885,  2.2185,  ...,  0.1352,  0.0476, -0.0749],\n",
              "           ...,\n",
              "           [ 0.1527,  0.1352,  0.1001,  ...,  0.2227,  0.2052,  0.2577],\n",
              "           [ 0.2577,  0.2052,  0.0301,  ...,  0.2227,  0.2227,  0.2577],\n",
              "           [ 0.1176,  0.0826, -0.0574,  ...,  0.2052,  0.2402,  0.2227]],\n",
              " \n",
              "          [[ 0.7925,  0.7751,  0.9319,  ..., -0.7413, -0.8284, -0.8807],\n",
              "           [ 1.0365,  0.8797,  0.9145,  ..., -0.7936, -0.8458, -0.9678],\n",
              "           [ 1.2980,  1.1934,  1.1585,  ..., -0.7761, -0.8981, -1.0201],\n",
              "           ...,\n",
              "           [-1.7522, -1.7522, -1.7522,  ..., -0.6541, -0.7064, -0.6890],\n",
              "           [-1.6650, -1.6824, -1.7522,  ..., -0.6715, -0.6890, -0.6715],\n",
              "           [-1.7522, -1.7870, -1.7870,  ..., -0.7238, -0.6890, -0.6541]]]]),\n",
              " tensor([1, 0, 1, 0])]"
            ]
          },
          "metadata": {
            "tags": []
          },
          "execution_count": 35
        }
      ]
    },
    {
      "cell_type": "code",
      "metadata": {
        "id": "EGTJ-51k4pPB",
        "colab_type": "code",
        "colab": {
          "base_uri": "https://localhost:8080/",
          "height": 103,
          "referenced_widgets": [
            "0ea11ad39efb41eca75906720828d8e2",
            "b6cbe391e9f24aa38e5dcd18bbae494a",
            "2bb6233e0a89456dba0ab4d78284f064",
            "e595f8320c984514bade14cc121f3b52",
            "4ed749629f9544f7bdcb5994769445d7",
            "b865b7cefab54539bde10717af8aa0aa",
            "f583fa5411044e05a9cddaac40e672ce",
            "9943b1c689b34e8db7f93ca04685941c"
          ]
        },
        "outputId": "fc6a92da-930e-4b54-d9ef-f2570a51953a"
      },
      "source": [
        "#load trained ResNet\n",
        "model_conv=torchvision.models.resnet18(pretrained=True)"
      ],
      "execution_count": 36,
      "outputs": [
        {
          "output_type": "stream",
          "text": [
            "Downloading: \"https://download.pytorch.org/models/resnet18-5c106cde.pth\" to /root/.cache/torch/hub/checkpoints/resnet18-5c106cde.pth\n"
          ],
          "name": "stderr"
        },
        {
          "output_type": "display_data",
          "data": {
            "application/vnd.jupyter.widget-view+json": {
              "model_id": "0ea11ad39efb41eca75906720828d8e2",
              "version_minor": 0,
              "version_major": 2
            },
            "text/plain": [
              "HBox(children=(FloatProgress(value=0.0, max=46827520.0), HTML(value='')))"
            ]
          },
          "metadata": {
            "tags": []
          }
        },
        {
          "output_type": "stream",
          "text": [
            "\n"
          ],
          "name": "stdout"
        }
      ]
    },
    {
      "cell_type": "code",
      "metadata": {
        "id": "V0QfCU5T3eBp",
        "colab_type": "code",
        "colab": {}
      },
      "source": [
        "#freezing all layers of the model\n",
        "for params in model_conv.parameters():\n",
        "  params.requires_grad=False"
      ],
      "execution_count": 37,
      "outputs": []
    },
    {
      "cell_type": "code",
      "metadata": {
        "id": "Scp8vxUu5iDT",
        "colab_type": "code",
        "colab": {
          "base_uri": "https://localhost:8080/",
          "height": 1000
        },
        "outputId": "f6a687a8-f07a-45dc-9a36-0c45290ef0ef"
      },
      "source": [
        "model_conv"
      ],
      "execution_count": 38,
      "outputs": [
        {
          "output_type": "execute_result",
          "data": {
            "text/plain": [
              "ResNet(\n",
              "  (conv1): Conv2d(3, 64, kernel_size=(7, 7), stride=(2, 2), padding=(3, 3), bias=False)\n",
              "  (bn1): BatchNorm2d(64, eps=1e-05, momentum=0.1, affine=True, track_running_stats=True)\n",
              "  (relu): ReLU(inplace=True)\n",
              "  (maxpool): MaxPool2d(kernel_size=3, stride=2, padding=1, dilation=1, ceil_mode=False)\n",
              "  (layer1): Sequential(\n",
              "    (0): BasicBlock(\n",
              "      (conv1): Conv2d(64, 64, kernel_size=(3, 3), stride=(1, 1), padding=(1, 1), bias=False)\n",
              "      (bn1): BatchNorm2d(64, eps=1e-05, momentum=0.1, affine=True, track_running_stats=True)\n",
              "      (relu): ReLU(inplace=True)\n",
              "      (conv2): Conv2d(64, 64, kernel_size=(3, 3), stride=(1, 1), padding=(1, 1), bias=False)\n",
              "      (bn2): BatchNorm2d(64, eps=1e-05, momentum=0.1, affine=True, track_running_stats=True)\n",
              "    )\n",
              "    (1): BasicBlock(\n",
              "      (conv1): Conv2d(64, 64, kernel_size=(3, 3), stride=(1, 1), padding=(1, 1), bias=False)\n",
              "      (bn1): BatchNorm2d(64, eps=1e-05, momentum=0.1, affine=True, track_running_stats=True)\n",
              "      (relu): ReLU(inplace=True)\n",
              "      (conv2): Conv2d(64, 64, kernel_size=(3, 3), stride=(1, 1), padding=(1, 1), bias=False)\n",
              "      (bn2): BatchNorm2d(64, eps=1e-05, momentum=0.1, affine=True, track_running_stats=True)\n",
              "    )\n",
              "  )\n",
              "  (layer2): Sequential(\n",
              "    (0): BasicBlock(\n",
              "      (conv1): Conv2d(64, 128, kernel_size=(3, 3), stride=(2, 2), padding=(1, 1), bias=False)\n",
              "      (bn1): BatchNorm2d(128, eps=1e-05, momentum=0.1, affine=True, track_running_stats=True)\n",
              "      (relu): ReLU(inplace=True)\n",
              "      (conv2): Conv2d(128, 128, kernel_size=(3, 3), stride=(1, 1), padding=(1, 1), bias=False)\n",
              "      (bn2): BatchNorm2d(128, eps=1e-05, momentum=0.1, affine=True, track_running_stats=True)\n",
              "      (downsample): Sequential(\n",
              "        (0): Conv2d(64, 128, kernel_size=(1, 1), stride=(2, 2), bias=False)\n",
              "        (1): BatchNorm2d(128, eps=1e-05, momentum=0.1, affine=True, track_running_stats=True)\n",
              "      )\n",
              "    )\n",
              "    (1): BasicBlock(\n",
              "      (conv1): Conv2d(128, 128, kernel_size=(3, 3), stride=(1, 1), padding=(1, 1), bias=False)\n",
              "      (bn1): BatchNorm2d(128, eps=1e-05, momentum=0.1, affine=True, track_running_stats=True)\n",
              "      (relu): ReLU(inplace=True)\n",
              "      (conv2): Conv2d(128, 128, kernel_size=(3, 3), stride=(1, 1), padding=(1, 1), bias=False)\n",
              "      (bn2): BatchNorm2d(128, eps=1e-05, momentum=0.1, affine=True, track_running_stats=True)\n",
              "    )\n",
              "  )\n",
              "  (layer3): Sequential(\n",
              "    (0): BasicBlock(\n",
              "      (conv1): Conv2d(128, 256, kernel_size=(3, 3), stride=(2, 2), padding=(1, 1), bias=False)\n",
              "      (bn1): BatchNorm2d(256, eps=1e-05, momentum=0.1, affine=True, track_running_stats=True)\n",
              "      (relu): ReLU(inplace=True)\n",
              "      (conv2): Conv2d(256, 256, kernel_size=(3, 3), stride=(1, 1), padding=(1, 1), bias=False)\n",
              "      (bn2): BatchNorm2d(256, eps=1e-05, momentum=0.1, affine=True, track_running_stats=True)\n",
              "      (downsample): Sequential(\n",
              "        (0): Conv2d(128, 256, kernel_size=(1, 1), stride=(2, 2), bias=False)\n",
              "        (1): BatchNorm2d(256, eps=1e-05, momentum=0.1, affine=True, track_running_stats=True)\n",
              "      )\n",
              "    )\n",
              "    (1): BasicBlock(\n",
              "      (conv1): Conv2d(256, 256, kernel_size=(3, 3), stride=(1, 1), padding=(1, 1), bias=False)\n",
              "      (bn1): BatchNorm2d(256, eps=1e-05, momentum=0.1, affine=True, track_running_stats=True)\n",
              "      (relu): ReLU(inplace=True)\n",
              "      (conv2): Conv2d(256, 256, kernel_size=(3, 3), stride=(1, 1), padding=(1, 1), bias=False)\n",
              "      (bn2): BatchNorm2d(256, eps=1e-05, momentum=0.1, affine=True, track_running_stats=True)\n",
              "    )\n",
              "  )\n",
              "  (layer4): Sequential(\n",
              "    (0): BasicBlock(\n",
              "      (conv1): Conv2d(256, 512, kernel_size=(3, 3), stride=(2, 2), padding=(1, 1), bias=False)\n",
              "      (bn1): BatchNorm2d(512, eps=1e-05, momentum=0.1, affine=True, track_running_stats=True)\n",
              "      (relu): ReLU(inplace=True)\n",
              "      (conv2): Conv2d(512, 512, kernel_size=(3, 3), stride=(1, 1), padding=(1, 1), bias=False)\n",
              "      (bn2): BatchNorm2d(512, eps=1e-05, momentum=0.1, affine=True, track_running_stats=True)\n",
              "      (downsample): Sequential(\n",
              "        (0): Conv2d(256, 512, kernel_size=(1, 1), stride=(2, 2), bias=False)\n",
              "        (1): BatchNorm2d(512, eps=1e-05, momentum=0.1, affine=True, track_running_stats=True)\n",
              "      )\n",
              "    )\n",
              "    (1): BasicBlock(\n",
              "      (conv1): Conv2d(512, 512, kernel_size=(3, 3), stride=(1, 1), padding=(1, 1), bias=False)\n",
              "      (bn1): BatchNorm2d(512, eps=1e-05, momentum=0.1, affine=True, track_running_stats=True)\n",
              "      (relu): ReLU(inplace=True)\n",
              "      (conv2): Conv2d(512, 512, kernel_size=(3, 3), stride=(1, 1), padding=(1, 1), bias=False)\n",
              "      (bn2): BatchNorm2d(512, eps=1e-05, momentum=0.1, affine=True, track_running_stats=True)\n",
              "    )\n",
              "  )\n",
              "  (avgpool): AdaptiveAvgPool2d(output_size=(1, 1))\n",
              "  (fc): Linear(in_features=512, out_features=1000, bias=True)\n",
              ")"
            ]
          },
          "metadata": {
            "tags": []
          },
          "execution_count": 38
        }
      ]
    },
    {
      "cell_type": "code",
      "metadata": {
        "id": "l4UW7W5F5krM",
        "colab_type": "code",
        "colab": {}
      },
      "source": [
        ""
      ],
      "execution_count": null,
      "outputs": []
    }
  ]
}