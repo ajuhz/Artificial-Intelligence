{
  "nbformat": 4,
  "nbformat_minor": 0,
  "metadata": {
    "colab": {
      "name": "Transfer Learning with Pytorch.ipynb",
      "provenance": [],
      "toc_visible": true,
      "mount_file_id": "1fqqS-N1q6b5EGc23yAOun4CJ4dSwN9DU",
      "authorship_tag": "ABX9TyPnDTB2YZ18sMwkB6uWexrY",
      "include_colab_link": true
    },
    "kernelspec": {
      "name": "python3",
      "display_name": "Python 3"
    },
    "accelerator": "GPU",
    "widgets": {
      "application/vnd.jupyter.widget-state+json": {
        "a122bf1aa1244f8a91d042a9d0c7d2f8": {
          "model_module": "@jupyter-widgets/controls",
          "model_name": "HBoxModel",
          "state": {
            "_view_name": "HBoxView",
            "_dom_classes": [],
            "_model_name": "HBoxModel",
            "_view_module": "@jupyter-widgets/controls",
            "_model_module_version": "1.5.0",
            "_view_count": null,
            "_view_module_version": "1.5.0",
            "box_style": "",
            "layout": "IPY_MODEL_0229d925e49a4c8a803de01e921c2ad4",
            "_model_module": "@jupyter-widgets/controls",
            "children": [
              "IPY_MODEL_a3915208056748b1be3de7d68c624cce",
              "IPY_MODEL_ca5c8db47aa84d3aa1450a1db2ff51e7"
            ]
          }
        },
        "0229d925e49a4c8a803de01e921c2ad4": {
          "model_module": "@jupyter-widgets/base",
          "model_name": "LayoutModel",
          "state": {
            "_view_name": "LayoutView",
            "grid_template_rows": null,
            "right": null,
            "justify_content": null,
            "_view_module": "@jupyter-widgets/base",
            "overflow": null,
            "_model_module_version": "1.2.0",
            "_view_count": null,
            "flex_flow": null,
            "width": null,
            "min_width": null,
            "border": null,
            "align_items": null,
            "bottom": null,
            "_model_module": "@jupyter-widgets/base",
            "top": null,
            "grid_column": null,
            "overflow_y": null,
            "overflow_x": null,
            "grid_auto_flow": null,
            "grid_area": null,
            "grid_template_columns": null,
            "flex": null,
            "_model_name": "LayoutModel",
            "justify_items": null,
            "grid_row": null,
            "max_height": null,
            "align_content": null,
            "visibility": null,
            "align_self": null,
            "height": null,
            "min_height": null,
            "padding": null,
            "grid_auto_rows": null,
            "grid_gap": null,
            "max_width": null,
            "order": null,
            "_view_module_version": "1.2.0",
            "grid_template_areas": null,
            "object_position": null,
            "object_fit": null,
            "grid_auto_columns": null,
            "margin": null,
            "display": null,
            "left": null
          }
        },
        "a3915208056748b1be3de7d68c624cce": {
          "model_module": "@jupyter-widgets/controls",
          "model_name": "FloatProgressModel",
          "state": {
            "_view_name": "ProgressView",
            "style": "IPY_MODEL_7aac6dd73de1480187b2847735a83322",
            "_dom_classes": [],
            "description": "100%",
            "_model_name": "FloatProgressModel",
            "bar_style": "success",
            "max": 46827520,
            "_view_module": "@jupyter-widgets/controls",
            "_model_module_version": "1.5.0",
            "value": 46827520,
            "_view_count": null,
            "_view_module_version": "1.5.0",
            "orientation": "horizontal",
            "min": 0,
            "description_tooltip": null,
            "_model_module": "@jupyter-widgets/controls",
            "layout": "IPY_MODEL_99379e39623a42b58ece372d820899be"
          }
        },
        "ca5c8db47aa84d3aa1450a1db2ff51e7": {
          "model_module": "@jupyter-widgets/controls",
          "model_name": "HTMLModel",
          "state": {
            "_view_name": "HTMLView",
            "style": "IPY_MODEL_a0d9603e43b042bd99b3eb07a57c3952",
            "_dom_classes": [],
            "description": "",
            "_model_name": "HTMLModel",
            "placeholder": "​",
            "_view_module": "@jupyter-widgets/controls",
            "_model_module_version": "1.5.0",
            "value": " 44.7M/44.7M [03:55&lt;00:00, 199kB/s]",
            "_view_count": null,
            "_view_module_version": "1.5.0",
            "description_tooltip": null,
            "_model_module": "@jupyter-widgets/controls",
            "layout": "IPY_MODEL_bce8e647b8294e43ac732a0dac3a64cb"
          }
        },
        "7aac6dd73de1480187b2847735a83322": {
          "model_module": "@jupyter-widgets/controls",
          "model_name": "ProgressStyleModel",
          "state": {
            "_view_name": "StyleView",
            "_model_name": "ProgressStyleModel",
            "description_width": "initial",
            "_view_module": "@jupyter-widgets/base",
            "_model_module_version": "1.5.0",
            "_view_count": null,
            "_view_module_version": "1.2.0",
            "bar_color": null,
            "_model_module": "@jupyter-widgets/controls"
          }
        },
        "99379e39623a42b58ece372d820899be": {
          "model_module": "@jupyter-widgets/base",
          "model_name": "LayoutModel",
          "state": {
            "_view_name": "LayoutView",
            "grid_template_rows": null,
            "right": null,
            "justify_content": null,
            "_view_module": "@jupyter-widgets/base",
            "overflow": null,
            "_model_module_version": "1.2.0",
            "_view_count": null,
            "flex_flow": null,
            "width": null,
            "min_width": null,
            "border": null,
            "align_items": null,
            "bottom": null,
            "_model_module": "@jupyter-widgets/base",
            "top": null,
            "grid_column": null,
            "overflow_y": null,
            "overflow_x": null,
            "grid_auto_flow": null,
            "grid_area": null,
            "grid_template_columns": null,
            "flex": null,
            "_model_name": "LayoutModel",
            "justify_items": null,
            "grid_row": null,
            "max_height": null,
            "align_content": null,
            "visibility": null,
            "align_self": null,
            "height": null,
            "min_height": null,
            "padding": null,
            "grid_auto_rows": null,
            "grid_gap": null,
            "max_width": null,
            "order": null,
            "_view_module_version": "1.2.0",
            "grid_template_areas": null,
            "object_position": null,
            "object_fit": null,
            "grid_auto_columns": null,
            "margin": null,
            "display": null,
            "left": null
          }
        },
        "a0d9603e43b042bd99b3eb07a57c3952": {
          "model_module": "@jupyter-widgets/controls",
          "model_name": "DescriptionStyleModel",
          "state": {
            "_view_name": "StyleView",
            "_model_name": "DescriptionStyleModel",
            "description_width": "",
            "_view_module": "@jupyter-widgets/base",
            "_model_module_version": "1.5.0",
            "_view_count": null,
            "_view_module_version": "1.2.0",
            "_model_module": "@jupyter-widgets/controls"
          }
        },
        "bce8e647b8294e43ac732a0dac3a64cb": {
          "model_module": "@jupyter-widgets/base",
          "model_name": "LayoutModel",
          "state": {
            "_view_name": "LayoutView",
            "grid_template_rows": null,
            "right": null,
            "justify_content": null,
            "_view_module": "@jupyter-widgets/base",
            "overflow": null,
            "_model_module_version": "1.2.0",
            "_view_count": null,
            "flex_flow": null,
            "width": null,
            "min_width": null,
            "border": null,
            "align_items": null,
            "bottom": null,
            "_model_module": "@jupyter-widgets/base",
            "top": null,
            "grid_column": null,
            "overflow_y": null,
            "overflow_x": null,
            "grid_auto_flow": null,
            "grid_area": null,
            "grid_template_columns": null,
            "flex": null,
            "_model_name": "LayoutModel",
            "justify_items": null,
            "grid_row": null,
            "max_height": null,
            "align_content": null,
            "visibility": null,
            "align_self": null,
            "height": null,
            "min_height": null,
            "padding": null,
            "grid_auto_rows": null,
            "grid_gap": null,
            "max_width": null,
            "order": null,
            "_view_module_version": "1.2.0",
            "grid_template_areas": null,
            "object_position": null,
            "object_fit": null,
            "grid_auto_columns": null,
            "margin": null,
            "display": null,
            "left": null
          }
        }
      }
    }
  },
  "cells": [
    {
      "cell_type": "markdown",
      "metadata": {
        "id": "view-in-github",
        "colab_type": "text"
      },
      "source": [
        "<a href=\"https://colab.research.google.com/github/ajuhz/Artificial-Intelligence/blob/master/Transfer_Learning_with_Pytorch.ipynb\" target=\"_parent\"><img src=\"https://colab.research.google.com/assets/colab-badge.svg\" alt=\"Open In Colab\"/></a>"
      ]
    },
    {
      "cell_type": "markdown",
      "metadata": {
        "id": "0jscktdMyhMV",
        "colab_type": "text"
      },
      "source": [
        "Note: This is a simplified and more explainable version from: https://pytorch.org/tutorials/beginner/transfer_learning_tutorial.html"
      ]
    },
    {
      "cell_type": "code",
      "metadata": {
        "id": "6N6WkABDj7jK",
        "colab_type": "code",
        "colab": {}
      },
      "source": [
        "import torch\n",
        "import torch.nn as nn\n",
        "import torch.optim as optim\n",
        "from torch.optim import lr_scheduler\n",
        "import torchvision\n",
        "from torch.autograd import Variable\n",
        "from torchvision import datasets, models, transforms\n",
        "import os\n",
        "import numpy as np"
      ],
      "execution_count": 1,
      "outputs": []
    },
    {
      "cell_type": "code",
      "metadata": {
        "id": "k_eCKNWkyxFR",
        "colab_type": "code",
        "colab": {}
      },
      "source": [
        "#Data Augmentation and normalization for training\n",
        "\n",
        "# Data augmentation and normalization for training\n",
        "# Just normalization for validation\n",
        "#class torchvision.transforms.RandomResizedCrop(size, scale=(0.08, 1.0), ratio=(0.75, 1.3333333333333333), interpolation=2)\n",
        "#transforms.RandomResizedCrop(224) --> A crop of random size (default: of 0.08 to 1.0) of the original size and a \n",
        "#random aspect ratio (default: of 3/4 to 4/3) of the original aspect ratio is made. \n",
        "#This crop is finally resized to given size (224 in this case). \n",
        "#transforms.CenterCrop(224)--> Crops the image at the center. 224 is the Desired output size of the crop.\n",
        "#class torchvision.transforms.Normalize(mean, std)\n",
        "#Normalize a tensor image with mean and standard deviation. Given mean: (M1,...,Mn) and std: (S1,..,Sn) for n channels, \n",
        "#this transform will normalize each channel of the input torch.Tensor i.e. \n",
        "#input[channel] = (input[channel] - mean[channel]) / std[channel]\n",
        "#Parameters:     mean (sequence) – Sequence of means for each channel.\n",
        "#                std (sequence) – Sequence of standard deviations for each channel.\n",
        "data_transforms={'train':transforms.Compose([transforms.RandomResizedCrop(224),\n",
        "                                             transforms.RandomHorizontalFlip(),\n",
        "                                             transforms.ToTensor(),\n",
        "                                             transforms.Normalize([0.485, 0.456, 0.406], [0.229, 0.224, 0.225])]),\n",
        "                 'val' : transforms.Compose([transforms.Resize(256),\n",
        "                                            transforms.CenterCrop(224),\n",
        "                                            transforms.ToTensor(),\n",
        "                                            transforms.Normalize([0.485, 0.456, 0.406], [0.229, 0.224, 0.225])]),}\n",
        "\n"
      ],
      "execution_count": 2,
      "outputs": []
    },
    {
      "cell_type": "code",
      "metadata": {
        "id": "63HnUuE_0ip-",
        "colab_type": "code",
        "colab": {
          "base_uri": "https://localhost:8080/",
          "height": 34
        },
        "outputId": "81381f07-df36-4318-f609-c4058f3346d5"
      },
      "source": [
        "!pwd"
      ],
      "execution_count": 3,
      "outputs": [
        {
          "output_type": "stream",
          "text": [
            "/content\n"
          ],
          "name": "stdout"
        }
      ]
    },
    {
      "cell_type": "code",
      "metadata": {
        "id": "xUrMTjSE1LIw",
        "colab_type": "code",
        "colab": {
          "base_uri": "https://localhost:8080/",
          "height": 34
        },
        "outputId": "1d59c59f-823f-485a-953d-f820e84ef04b"
      },
      "source": [
        "%cd /content/drive/My Drive/Python"
      ],
      "execution_count": 4,
      "outputs": [
        {
          "output_type": "stream",
          "text": [
            "/content/drive/My Drive/Python\n"
          ],
          "name": "stdout"
        }
      ]
    },
    {
      "cell_type": "code",
      "metadata": {
        "id": "mLZf1kU21P3h",
        "colab_type": "code",
        "colab": {}
      },
      "source": [
        "data_dir = 'hymenoptera_data'"
      ],
      "execution_count": 5,
      "outputs": []
    },
    {
      "cell_type": "code",
      "metadata": {
        "id": "8vSrSRVW1rcO",
        "colab_type": "code",
        "colab": {}
      },
      "source": [
        "#Create a dictionary that contains the information of the images in both the training and validation set\n",
        "image_datasets = {x: datasets.ImageFolder(os.path.join(data_dir, x),data_transforms[x]) for x in ['train', 'val']}\n",
        "#Create a dictionary that contians the data loader\n",
        "dataloaders = {x: torch.utils.data.DataLoader(image_datasets[x], \n",
        "                                              batch_size=4,\n",
        "                                              shuffle=True) for x in ['train', 'val']}\n",
        "#Create a dictionary that contains the size of each dataset (training and validation)\n"
      ],
      "execution_count": 6,
      "outputs": []
    },
    {
      "cell_type": "code",
      "metadata": {
        "id": "c-IgFFnY1zYB",
        "colab_type": "code",
        "colab": {
          "base_uri": "https://localhost:8080/",
          "height": 51
        },
        "outputId": "88e275d1-bb9f-414c-f7a8-83cda612c628"
      },
      "source": [
        "dataset_sizes={x: len(image_datasets[x]) for x in ['train','val']}\n",
        "print('Dataset sizes are {}'.format(dataset_sizes))\n",
        "print('Dataloader batch sizes are Train : {} Test : {}'.format(len(dataloaders['train']),len(dataloaders['val'])))\n"
      ],
      "execution_count": 7,
      "outputs": [
        {
          "output_type": "stream",
          "text": [
            "Dataset sizes are {'train': 244, 'val': 152}\n",
            "Dataloader batch sizes are Train : 61 Test : 38\n"
          ],
          "name": "stdout"
        }
      ]
    },
    {
      "cell_type": "code",
      "metadata": {
        "id": "GQxyUrj312LL",
        "colab_type": "code",
        "colab": {
          "base_uri": "https://localhost:8080/",
          "height": 1000
        },
        "outputId": "df9c25f7-6657-49d4-f0c0-61b6f1b8b6f2"
      },
      "source": [
        "next(iter(dataloaders['train']))"
      ],
      "execution_count": 8,
      "outputs": [
        {
          "output_type": "execute_result",
          "data": {
            "text/plain": [
              "[tensor([[[[-0.6623, -0.7137, -0.7137,  ..., -0.8335, -0.8678, -0.9192],\n",
              "           [-0.6794, -0.7308, -0.6965,  ..., -0.8164, -0.8164, -0.8678],\n",
              "           [-0.5938, -0.6281, -0.6623,  ..., -0.7993, -0.7993, -0.8507],\n",
              "           ...,\n",
              "           [ 1.0673,  1.1187,  1.1358,  ...,  0.8104,  0.7762,  0.6906],\n",
              "           [ 1.1358,  1.2043,  1.2899,  ...,  0.8961,  0.8618,  0.7591],\n",
              "           [ 1.0159,  1.1358,  1.2899,  ...,  0.8447,  0.8276,  0.7762]],\n",
              " \n",
              "          [[-0.4251, -0.4426, -0.4426,  ..., -0.6352, -0.6352, -0.6527],\n",
              "           [-0.3725, -0.4251, -0.4601,  ..., -0.6877, -0.6877, -0.6702],\n",
              "           [-0.4601, -0.4426, -0.4426,  ..., -0.6702, -0.6527, -0.6352],\n",
              "           ...,\n",
              "           [ 0.9580,  0.9580,  0.9580,  ...,  0.8354,  0.8529,  0.8880],\n",
              "           [ 0.9930,  1.0455,  1.0980,  ...,  0.8354,  0.8354,  0.7654],\n",
              "           [ 0.9055,  1.0105,  1.1155,  ...,  0.7479,  0.8179,  0.8529]],\n",
              " \n",
              "          [[-1.3687, -1.3861, -1.3861,  ..., -1.3861, -1.4036, -1.4210],\n",
              "           [-1.3339, -1.3861, -1.4036,  ..., -1.4036, -1.4036, -1.4210],\n",
              "           [-1.3513, -1.3339, -1.3339,  ..., -1.3861, -1.3861, -1.3861],\n",
              "           ...,\n",
              "           [-1.2816, -1.2467, -1.2293,  ..., -1.5430, -1.5604, -1.4733],\n",
              "           [-1.2293, -1.1596, -1.0724,  ..., -1.4036, -1.5081, -1.6824],\n",
              "           [-1.3339, -1.2119, -1.0898,  ..., -1.4036, -1.4384, -1.5604]]],\n",
              " \n",
              " \n",
              "         [[[-1.2959, -1.1932, -1.1932,  ..., -0.9534, -0.8678, -0.7308],\n",
              "           [-1.2103, -1.1247, -1.1418,  ..., -0.7993, -0.6452, -0.5596],\n",
              "           [-1.3130, -1.2274, -1.2445,  ..., -0.7650, -0.6109, -0.4054],\n",
              "           ...,\n",
              "           [-0.6452, -0.5596, -0.4226,  ..., -1.3815, -1.2959, -1.2445],\n",
              "           [-0.5424, -0.7137, -0.7479,  ..., -1.1760, -1.0219, -1.0219],\n",
              "           [-0.6623, -0.7308, -0.8507,  ..., -1.0390, -0.9192, -0.9534]],\n",
              " \n",
              "          [[-0.8978, -0.7927, -0.7752,  ..., -0.5301, -0.5126, -0.4776],\n",
              "           [-0.8277, -0.7752, -0.8627,  ..., -0.5651, -0.4601, -0.4251],\n",
              "           [-1.0028, -0.9153, -0.9153,  ..., -0.5126, -0.3901, -0.2500],\n",
              "           ...,\n",
              "           [-0.3901, -0.3901, -0.3375,  ..., -1.2304, -1.0028, -0.8803],\n",
              "           [-0.3550, -0.4076, -0.3901,  ..., -1.0903, -0.9153, -0.8277],\n",
              "           [-0.2675, -0.3025, -0.3375,  ..., -0.9153, -0.8277, -0.8277]],\n",
              " \n",
              "          [[-1.2641, -1.1247, -1.0724,  ..., -0.4973, -0.4450, -0.3055],\n",
              "           [-1.1770, -1.0376, -1.0201,  ..., -0.4450, -0.3230, -0.3055],\n",
              "           [-1.1073, -0.9330, -0.8981,  ..., -0.2881, -0.1661, -0.0441],\n",
              "           ...,\n",
              "           [-0.4624, -0.5844, -0.6018,  ..., -1.2467, -1.1421, -1.0376],\n",
              "           [-0.3753, -0.5844, -0.6018,  ..., -1.1421, -1.0724, -1.0201],\n",
              "           [-0.3578, -0.4973, -0.6890,  ..., -1.0027, -0.8807, -0.8981]]],\n",
              " \n",
              " \n",
              "         [[[-1.1589, -1.1247, -1.1589,  ..., -0.4568, -0.4226, -0.4397],\n",
              "           [-1.2103, -1.1075, -1.1589,  ..., -0.3369, -0.3027, -0.4568],\n",
              "           [-1.2103, -1.1418, -1.1760,  ..., -0.2342, -0.2684, -0.4054],\n",
              "           ...,\n",
              "           [ 1.1015,  1.1187,  1.1187,  ...,  1.0159,  1.0159,  1.0331],\n",
              "           [ 1.1700,  1.1872,  1.1872,  ...,  1.1872,  1.1872,  1.1700],\n",
              "           [ 0.9132,  0.9303,  0.9303,  ...,  0.9303,  0.9303,  0.9132]],\n",
              " \n",
              "          [[-1.0553, -1.0203, -1.0553,  ..., -1.8431, -1.8081, -1.7906],\n",
              "           [-1.1078, -1.0028, -1.0553,  ..., -1.7731, -1.7206, -1.8081],\n",
              "           [-1.1078, -1.0378, -1.0728,  ..., -1.7731, -1.7556, -1.8256],\n",
              "           ...,\n",
              "           [ 0.9930,  1.0105,  1.0280,  ...,  0.9930,  0.9930,  1.0105],\n",
              "           [ 1.1331,  1.1331,  1.1331,  ...,  1.1506,  1.1331,  1.1331],\n",
              "           [ 0.9055,  0.9230,  0.9230,  ...,  0.9230,  0.9230,  0.9055]],\n",
              " \n",
              "          [[-0.8633, -0.8284, -0.8633,  ..., -1.1596, -1.0724, -1.1596],\n",
              "           [-0.9156, -0.8110, -0.8633,  ..., -1.0898, -1.0027, -1.1944],\n",
              "           [-0.9156, -0.8458, -0.8807,  ..., -1.0724, -1.0376, -1.2293],\n",
              "           ...,\n",
              "           [-0.7413, -0.7413, -0.7413,  ..., -0.8633, -0.8633, -0.8458],\n",
              "           [-1.0027, -0.9853, -0.9853,  ..., -1.0201, -1.0201, -1.0376],\n",
              "           [-1.1247, -1.1073, -1.1073,  ..., -1.1421, -1.1421, -1.1596]]],\n",
              " \n",
              " \n",
              "         [[[ 0.3994,  0.2453,  0.0741,  ..., -1.5870, -1.4843, -1.3987],\n",
              "           [ 0.3481,  0.1768, -0.0629,  ..., -1.5357, -1.5185, -1.5014],\n",
              "           [ 0.3138,  0.0741, -0.2856,  ..., -1.5357, -1.5528, -1.5699],\n",
              "           ...,\n",
              "           [ 1.4954,  1.4954,  1.5297,  ...,  1.5125,  1.5810,  1.6153],\n",
              "           [ 1.4440,  1.4612,  1.4954,  ...,  1.4612,  1.5125,  1.5468],\n",
              "           [ 1.3927,  1.4269,  1.4612,  ...,  1.4098,  1.4440,  1.4612]],\n",
              " \n",
              "          [[ 0.0651, -0.0574, -0.2150,  ..., -0.9153, -0.8452, -0.7927],\n",
              "           [ 0.0651, -0.0749, -0.2675,  ..., -0.8452, -0.8452, -0.8452],\n",
              "           [ 0.1001, -0.0924, -0.3901,  ..., -0.8102, -0.8277, -0.8277],\n",
              "           ...,\n",
              "           [ 1.5357,  1.5357,  1.5707,  ...,  1.8683,  1.9559,  2.0259],\n",
              "           [ 1.4657,  1.4832,  1.5182,  ...,  1.8333,  1.8859,  1.9209],\n",
              "           [ 1.3957,  1.4307,  1.4657,  ...,  1.7983,  1.8158,  1.8333]],\n",
              " \n",
              "          [[-1.6824, -1.6999, -1.6999,  ..., -1.5256, -1.4384, -1.3687],\n",
              "           [-1.6476, -1.6302, -1.6302,  ..., -1.5430, -1.5430, -1.5430],\n",
              "           [-1.5604, -1.5604, -1.5953,  ..., -1.5953, -1.6476, -1.7173],\n",
              "           ...,\n",
              "           [-1.6302, -1.6302, -1.5953,  ..., -1.6302, -1.5256, -1.4559],\n",
              "           [-1.6999, -1.6650, -1.6302,  ..., -1.6650, -1.5779, -1.5256],\n",
              "           [-1.7522, -1.7173, -1.6824,  ..., -1.6824, -1.6302, -1.5779]]]]),\n",
              " tensor([1, 1, 1, 1])]"
            ]
          },
          "metadata": {
            "tags": []
          },
          "execution_count": 8
        }
      ]
    },
    {
      "cell_type": "code",
      "metadata": {
        "id": "EGTJ-51k4pPB",
        "colab_type": "code",
        "colab": {
          "base_uri": "https://localhost:8080/",
          "height": 103,
          "referenced_widgets": [
            "a122bf1aa1244f8a91d042a9d0c7d2f8",
            "0229d925e49a4c8a803de01e921c2ad4",
            "a3915208056748b1be3de7d68c624cce",
            "ca5c8db47aa84d3aa1450a1db2ff51e7",
            "7aac6dd73de1480187b2847735a83322",
            "99379e39623a42b58ece372d820899be",
            "a0d9603e43b042bd99b3eb07a57c3952",
            "bce8e647b8294e43ac732a0dac3a64cb"
          ]
        },
        "outputId": "ae85d76a-01e1-4568-e607-9671a663e939"
      },
      "source": [
        "#load trained ResNet\n",
        "model_conv=torchvision.models.resnet18(pretrained=True)"
      ],
      "execution_count": 9,
      "outputs": [
        {
          "output_type": "stream",
          "text": [
            "Downloading: \"https://download.pytorch.org/models/resnet18-5c106cde.pth\" to /root/.cache/torch/hub/checkpoints/resnet18-5c106cde.pth\n"
          ],
          "name": "stderr"
        },
        {
          "output_type": "display_data",
          "data": {
            "application/vnd.jupyter.widget-view+json": {
              "model_id": "a122bf1aa1244f8a91d042a9d0c7d2f8",
              "version_minor": 0,
              "version_major": 2
            },
            "text/plain": [
              "HBox(children=(FloatProgress(value=0.0, max=46827520.0), HTML(value='')))"
            ]
          },
          "metadata": {
            "tags": []
          }
        },
        {
          "output_type": "stream",
          "text": [
            "\n"
          ],
          "name": "stdout"
        }
      ]
    },
    {
      "cell_type": "code",
      "metadata": {
        "id": "V0QfCU5T3eBp",
        "colab_type": "code",
        "colab": {}
      },
      "source": [
        "#freezing all layers of the model\n",
        "for params in model_conv.parameters():\n",
        "  params.requires_grad=False"
      ],
      "execution_count": 10,
      "outputs": []
    },
    {
      "cell_type": "code",
      "metadata": {
        "id": "Scp8vxUu5iDT",
        "colab_type": "code",
        "colab": {
          "base_uri": "https://localhost:8080/",
          "height": 1000
        },
        "outputId": "71fb5837-5a29-4330-f0b6-c52e28e21993"
      },
      "source": [
        "print(model_conv.parameters)"
      ],
      "execution_count": 11,
      "outputs": [
        {
          "output_type": "stream",
          "text": [
            "<bound method Module.parameters of ResNet(\n",
            "  (conv1): Conv2d(3, 64, kernel_size=(7, 7), stride=(2, 2), padding=(3, 3), bias=False)\n",
            "  (bn1): BatchNorm2d(64, eps=1e-05, momentum=0.1, affine=True, track_running_stats=True)\n",
            "  (relu): ReLU(inplace=True)\n",
            "  (maxpool): MaxPool2d(kernel_size=3, stride=2, padding=1, dilation=1, ceil_mode=False)\n",
            "  (layer1): Sequential(\n",
            "    (0): BasicBlock(\n",
            "      (conv1): Conv2d(64, 64, kernel_size=(3, 3), stride=(1, 1), padding=(1, 1), bias=False)\n",
            "      (bn1): BatchNorm2d(64, eps=1e-05, momentum=0.1, affine=True, track_running_stats=True)\n",
            "      (relu): ReLU(inplace=True)\n",
            "      (conv2): Conv2d(64, 64, kernel_size=(3, 3), stride=(1, 1), padding=(1, 1), bias=False)\n",
            "      (bn2): BatchNorm2d(64, eps=1e-05, momentum=0.1, affine=True, track_running_stats=True)\n",
            "    )\n",
            "    (1): BasicBlock(\n",
            "      (conv1): Conv2d(64, 64, kernel_size=(3, 3), stride=(1, 1), padding=(1, 1), bias=False)\n",
            "      (bn1): BatchNorm2d(64, eps=1e-05, momentum=0.1, affine=True, track_running_stats=True)\n",
            "      (relu): ReLU(inplace=True)\n",
            "      (conv2): Conv2d(64, 64, kernel_size=(3, 3), stride=(1, 1), padding=(1, 1), bias=False)\n",
            "      (bn2): BatchNorm2d(64, eps=1e-05, momentum=0.1, affine=True, track_running_stats=True)\n",
            "    )\n",
            "  )\n",
            "  (layer2): Sequential(\n",
            "    (0): BasicBlock(\n",
            "      (conv1): Conv2d(64, 128, kernel_size=(3, 3), stride=(2, 2), padding=(1, 1), bias=False)\n",
            "      (bn1): BatchNorm2d(128, eps=1e-05, momentum=0.1, affine=True, track_running_stats=True)\n",
            "      (relu): ReLU(inplace=True)\n",
            "      (conv2): Conv2d(128, 128, kernel_size=(3, 3), stride=(1, 1), padding=(1, 1), bias=False)\n",
            "      (bn2): BatchNorm2d(128, eps=1e-05, momentum=0.1, affine=True, track_running_stats=True)\n",
            "      (downsample): Sequential(\n",
            "        (0): Conv2d(64, 128, kernel_size=(1, 1), stride=(2, 2), bias=False)\n",
            "        (1): BatchNorm2d(128, eps=1e-05, momentum=0.1, affine=True, track_running_stats=True)\n",
            "      )\n",
            "    )\n",
            "    (1): BasicBlock(\n",
            "      (conv1): Conv2d(128, 128, kernel_size=(3, 3), stride=(1, 1), padding=(1, 1), bias=False)\n",
            "      (bn1): BatchNorm2d(128, eps=1e-05, momentum=0.1, affine=True, track_running_stats=True)\n",
            "      (relu): ReLU(inplace=True)\n",
            "      (conv2): Conv2d(128, 128, kernel_size=(3, 3), stride=(1, 1), padding=(1, 1), bias=False)\n",
            "      (bn2): BatchNorm2d(128, eps=1e-05, momentum=0.1, affine=True, track_running_stats=True)\n",
            "    )\n",
            "  )\n",
            "  (layer3): Sequential(\n",
            "    (0): BasicBlock(\n",
            "      (conv1): Conv2d(128, 256, kernel_size=(3, 3), stride=(2, 2), padding=(1, 1), bias=False)\n",
            "      (bn1): BatchNorm2d(256, eps=1e-05, momentum=0.1, affine=True, track_running_stats=True)\n",
            "      (relu): ReLU(inplace=True)\n",
            "      (conv2): Conv2d(256, 256, kernel_size=(3, 3), stride=(1, 1), padding=(1, 1), bias=False)\n",
            "      (bn2): BatchNorm2d(256, eps=1e-05, momentum=0.1, affine=True, track_running_stats=True)\n",
            "      (downsample): Sequential(\n",
            "        (0): Conv2d(128, 256, kernel_size=(1, 1), stride=(2, 2), bias=False)\n",
            "        (1): BatchNorm2d(256, eps=1e-05, momentum=0.1, affine=True, track_running_stats=True)\n",
            "      )\n",
            "    )\n",
            "    (1): BasicBlock(\n",
            "      (conv1): Conv2d(256, 256, kernel_size=(3, 3), stride=(1, 1), padding=(1, 1), bias=False)\n",
            "      (bn1): BatchNorm2d(256, eps=1e-05, momentum=0.1, affine=True, track_running_stats=True)\n",
            "      (relu): ReLU(inplace=True)\n",
            "      (conv2): Conv2d(256, 256, kernel_size=(3, 3), stride=(1, 1), padding=(1, 1), bias=False)\n",
            "      (bn2): BatchNorm2d(256, eps=1e-05, momentum=0.1, affine=True, track_running_stats=True)\n",
            "    )\n",
            "  )\n",
            "  (layer4): Sequential(\n",
            "    (0): BasicBlock(\n",
            "      (conv1): Conv2d(256, 512, kernel_size=(3, 3), stride=(2, 2), padding=(1, 1), bias=False)\n",
            "      (bn1): BatchNorm2d(512, eps=1e-05, momentum=0.1, affine=True, track_running_stats=True)\n",
            "      (relu): ReLU(inplace=True)\n",
            "      (conv2): Conv2d(512, 512, kernel_size=(3, 3), stride=(1, 1), padding=(1, 1), bias=False)\n",
            "      (bn2): BatchNorm2d(512, eps=1e-05, momentum=0.1, affine=True, track_running_stats=True)\n",
            "      (downsample): Sequential(\n",
            "        (0): Conv2d(256, 512, kernel_size=(1, 1), stride=(2, 2), bias=False)\n",
            "        (1): BatchNorm2d(512, eps=1e-05, momentum=0.1, affine=True, track_running_stats=True)\n",
            "      )\n",
            "    )\n",
            "    (1): BasicBlock(\n",
            "      (conv1): Conv2d(512, 512, kernel_size=(3, 3), stride=(1, 1), padding=(1, 1), bias=False)\n",
            "      (bn1): BatchNorm2d(512, eps=1e-05, momentum=0.1, affine=True, track_running_stats=True)\n",
            "      (relu): ReLU(inplace=True)\n",
            "      (conv2): Conv2d(512, 512, kernel_size=(3, 3), stride=(1, 1), padding=(1, 1), bias=False)\n",
            "      (bn2): BatchNorm2d(512, eps=1e-05, momentum=0.1, affine=True, track_running_stats=True)\n",
            "    )\n",
            "  )\n",
            "  (avgpool): AdaptiveAvgPool2d(output_size=(1, 1))\n",
            "  (fc): Linear(in_features=512, out_features=1000, bias=True)\n",
            ")>\n"
          ],
          "name": "stdout"
        }
      ]
    },
    {
      "cell_type": "code",
      "metadata": {
        "id": "l4UW7W5F5krM",
        "colab_type": "code",
        "colab": {}
      },
      "source": [
        "#Get the number of inputs of the last layer (or number of neurons in the layer preceeding the last layer)\n",
        "num_ftrs = model_conv.fc.in_features\n",
        "#Reconstruct the last layer (output layer) to have only two classes \n",
        "model_conv.fc = nn.Linear(num_ftrs, 2)"
      ],
      "execution_count": 12,
      "outputs": []
    },
    {
      "cell_type": "code",
      "metadata": {
        "id": "UDSLlhHK9EbH",
        "colab_type": "code",
        "colab": {
          "base_uri": "https://localhost:8080/",
          "height": 1000
        },
        "outputId": "f0929b13-5f4b-4be8-eb26-5095ea0b4310"
      },
      "source": [
        "model_conv.state_dict"
      ],
      "execution_count": 13,
      "outputs": [
        {
          "output_type": "execute_result",
          "data": {
            "text/plain": [
              "<bound method Module.state_dict of ResNet(\n",
              "  (conv1): Conv2d(3, 64, kernel_size=(7, 7), stride=(2, 2), padding=(3, 3), bias=False)\n",
              "  (bn1): BatchNorm2d(64, eps=1e-05, momentum=0.1, affine=True, track_running_stats=True)\n",
              "  (relu): ReLU(inplace=True)\n",
              "  (maxpool): MaxPool2d(kernel_size=3, stride=2, padding=1, dilation=1, ceil_mode=False)\n",
              "  (layer1): Sequential(\n",
              "    (0): BasicBlock(\n",
              "      (conv1): Conv2d(64, 64, kernel_size=(3, 3), stride=(1, 1), padding=(1, 1), bias=False)\n",
              "      (bn1): BatchNorm2d(64, eps=1e-05, momentum=0.1, affine=True, track_running_stats=True)\n",
              "      (relu): ReLU(inplace=True)\n",
              "      (conv2): Conv2d(64, 64, kernel_size=(3, 3), stride=(1, 1), padding=(1, 1), bias=False)\n",
              "      (bn2): BatchNorm2d(64, eps=1e-05, momentum=0.1, affine=True, track_running_stats=True)\n",
              "    )\n",
              "    (1): BasicBlock(\n",
              "      (conv1): Conv2d(64, 64, kernel_size=(3, 3), stride=(1, 1), padding=(1, 1), bias=False)\n",
              "      (bn1): BatchNorm2d(64, eps=1e-05, momentum=0.1, affine=True, track_running_stats=True)\n",
              "      (relu): ReLU(inplace=True)\n",
              "      (conv2): Conv2d(64, 64, kernel_size=(3, 3), stride=(1, 1), padding=(1, 1), bias=False)\n",
              "      (bn2): BatchNorm2d(64, eps=1e-05, momentum=0.1, affine=True, track_running_stats=True)\n",
              "    )\n",
              "  )\n",
              "  (layer2): Sequential(\n",
              "    (0): BasicBlock(\n",
              "      (conv1): Conv2d(64, 128, kernel_size=(3, 3), stride=(2, 2), padding=(1, 1), bias=False)\n",
              "      (bn1): BatchNorm2d(128, eps=1e-05, momentum=0.1, affine=True, track_running_stats=True)\n",
              "      (relu): ReLU(inplace=True)\n",
              "      (conv2): Conv2d(128, 128, kernel_size=(3, 3), stride=(1, 1), padding=(1, 1), bias=False)\n",
              "      (bn2): BatchNorm2d(128, eps=1e-05, momentum=0.1, affine=True, track_running_stats=True)\n",
              "      (downsample): Sequential(\n",
              "        (0): Conv2d(64, 128, kernel_size=(1, 1), stride=(2, 2), bias=False)\n",
              "        (1): BatchNorm2d(128, eps=1e-05, momentum=0.1, affine=True, track_running_stats=True)\n",
              "      )\n",
              "    )\n",
              "    (1): BasicBlock(\n",
              "      (conv1): Conv2d(128, 128, kernel_size=(3, 3), stride=(1, 1), padding=(1, 1), bias=False)\n",
              "      (bn1): BatchNorm2d(128, eps=1e-05, momentum=0.1, affine=True, track_running_stats=True)\n",
              "      (relu): ReLU(inplace=True)\n",
              "      (conv2): Conv2d(128, 128, kernel_size=(3, 3), stride=(1, 1), padding=(1, 1), bias=False)\n",
              "      (bn2): BatchNorm2d(128, eps=1e-05, momentum=0.1, affine=True, track_running_stats=True)\n",
              "    )\n",
              "  )\n",
              "  (layer3): Sequential(\n",
              "    (0): BasicBlock(\n",
              "      (conv1): Conv2d(128, 256, kernel_size=(3, 3), stride=(2, 2), padding=(1, 1), bias=False)\n",
              "      (bn1): BatchNorm2d(256, eps=1e-05, momentum=0.1, affine=True, track_running_stats=True)\n",
              "      (relu): ReLU(inplace=True)\n",
              "      (conv2): Conv2d(256, 256, kernel_size=(3, 3), stride=(1, 1), padding=(1, 1), bias=False)\n",
              "      (bn2): BatchNorm2d(256, eps=1e-05, momentum=0.1, affine=True, track_running_stats=True)\n",
              "      (downsample): Sequential(\n",
              "        (0): Conv2d(128, 256, kernel_size=(1, 1), stride=(2, 2), bias=False)\n",
              "        (1): BatchNorm2d(256, eps=1e-05, momentum=0.1, affine=True, track_running_stats=True)\n",
              "      )\n",
              "    )\n",
              "    (1): BasicBlock(\n",
              "      (conv1): Conv2d(256, 256, kernel_size=(3, 3), stride=(1, 1), padding=(1, 1), bias=False)\n",
              "      (bn1): BatchNorm2d(256, eps=1e-05, momentum=0.1, affine=True, track_running_stats=True)\n",
              "      (relu): ReLU(inplace=True)\n",
              "      (conv2): Conv2d(256, 256, kernel_size=(3, 3), stride=(1, 1), padding=(1, 1), bias=False)\n",
              "      (bn2): BatchNorm2d(256, eps=1e-05, momentum=0.1, affine=True, track_running_stats=True)\n",
              "    )\n",
              "  )\n",
              "  (layer4): Sequential(\n",
              "    (0): BasicBlock(\n",
              "      (conv1): Conv2d(256, 512, kernel_size=(3, 3), stride=(2, 2), padding=(1, 1), bias=False)\n",
              "      (bn1): BatchNorm2d(512, eps=1e-05, momentum=0.1, affine=True, track_running_stats=True)\n",
              "      (relu): ReLU(inplace=True)\n",
              "      (conv2): Conv2d(512, 512, kernel_size=(3, 3), stride=(1, 1), padding=(1, 1), bias=False)\n",
              "      (bn2): BatchNorm2d(512, eps=1e-05, momentum=0.1, affine=True, track_running_stats=True)\n",
              "      (downsample): Sequential(\n",
              "        (0): Conv2d(256, 512, kernel_size=(1, 1), stride=(2, 2), bias=False)\n",
              "        (1): BatchNorm2d(512, eps=1e-05, momentum=0.1, affine=True, track_running_stats=True)\n",
              "      )\n",
              "    )\n",
              "    (1): BasicBlock(\n",
              "      (conv1): Conv2d(512, 512, kernel_size=(3, 3), stride=(1, 1), padding=(1, 1), bias=False)\n",
              "      (bn1): BatchNorm2d(512, eps=1e-05, momentum=0.1, affine=True, track_running_stats=True)\n",
              "      (relu): ReLU(inplace=True)\n",
              "      (conv2): Conv2d(512, 512, kernel_size=(3, 3), stride=(1, 1), padding=(1, 1), bias=False)\n",
              "      (bn2): BatchNorm2d(512, eps=1e-05, momentum=0.1, affine=True, track_running_stats=True)\n",
              "    )\n",
              "  )\n",
              "  (avgpool): AdaptiveAvgPool2d(output_size=(1, 1))\n",
              "  (fc): Linear(in_features=512, out_features=2, bias=True)\n",
              ")>"
            ]
          },
          "metadata": {
            "tags": []
          },
          "execution_count": 13
        }
      ]
    },
    {
      "cell_type": "code",
      "metadata": {
        "id": "6mFuI4-99RwX",
        "colab_type": "code",
        "colab": {
          "base_uri": "https://localhost:8080/",
          "height": 34
        },
        "outputId": "ef922918-cdc4-4f97-dd85-23e9bfa6a24c"
      },
      "source": [
        "torch.cuda.is_available()"
      ],
      "execution_count": 14,
      "outputs": [
        {
          "output_type": "execute_result",
          "data": {
            "text/plain": [
              "True"
            ]
          },
          "metadata": {
            "tags": []
          },
          "execution_count": 14
        }
      ]
    },
    {
      "cell_type": "code",
      "metadata": {
        "id": "xybYUKAr9lpL",
        "colab_type": "code",
        "colab": {}
      },
      "source": [
        "model_conv=model_conv.cuda()"
      ],
      "execution_count": 15,
      "outputs": []
    },
    {
      "cell_type": "code",
      "metadata": {
        "id": "shpVj4hX-C7Q",
        "colab_type": "code",
        "colab": {
          "base_uri": "https://localhost:8080/",
          "height": 221
        },
        "outputId": "1a722b6b-1372-4250-fbe3-ad5a53295446"
      },
      "source": [
        "#Understand what's happening\n",
        "iteration = 0\n",
        "correct = 0\n",
        "for inputs,labels in dataloaders['train']:\n",
        "    if iteration==1:\n",
        "        break\n",
        "    inputs = Variable(inputs)\n",
        "    labels = Variable(labels)\n",
        "    if torch.cuda.is_available():\n",
        "        inputs = inputs.cuda()\n",
        "        labels = labels.cuda()\n",
        "    print(\"For one iteration, this is what happens:\")\n",
        "    print(\"Input Shape:\",inputs.shape)\n",
        "    print(\"Labels Shape:\",labels.shape)\n",
        "    print(\"Labels are: {}\".format(labels))\n",
        "    output = model_conv(inputs)\n",
        "    print(\"Output Tensor:\", output)\n",
        "    print(\"Outputs Shape\",output.shape)\n",
        "    _, predicted = torch.max(output, 1)\n",
        "    print(\"Predicted:\", predicted)\n",
        "    print(\"Predicted Shape\",predicted.shape)\n",
        "    correct += (predicted == labels).sum()   \n",
        "    print(\"Correct Predictions:\",correct)\n",
        "    \n",
        "    iteration += 1"
      ],
      "execution_count": 16,
      "outputs": [
        {
          "output_type": "stream",
          "text": [
            "For one iteration, this is what happens:\n",
            "Input Shape: torch.Size([4, 3, 224, 224])\n",
            "Labels Shape: torch.Size([4])\n",
            "Labels are: tensor([1, 0, 1, 1], device='cuda:0')\n",
            "Output Tensor: tensor([[ 0.0577, -0.2725],\n",
            "        [-0.1278, -0.2910],\n",
            "        [ 0.3878, -0.0018],\n",
            "        [ 0.6206,  0.2066]], device='cuda:0', grad_fn=<AddmmBackward>)\n",
            "Outputs Shape torch.Size([4, 2])\n",
            "Predicted: tensor([0, 0, 0, 0], device='cuda:0')\n",
            "Predicted Shape torch.Size([4])\n",
            "Correct Predictions: tensor(1, device='cuda:0')\n"
          ],
          "name": "stdout"
        }
      ]
    },
    {
      "cell_type": "code",
      "metadata": {
        "id": "wJDY1PZt-kJo",
        "colab_type": "code",
        "colab": {}
      },
      "source": [
        "criterion = nn.CrossEntropyLoss()\n",
        "optimizer = optim.SGD(model_conv.fc.parameters(), lr=0.001, momentum=0.9)\n",
        "#Try experimenting with: optim.Adam(model_conv.fc.parameters(), lr=0.001)\n",
        "#Decay LR by a factor of 0.1 every 7 epochs\n",
        "exp_lr_scheduler = lr_scheduler.StepLR(optimizer, step_size=7, gamma=0.1)"
      ],
      "execution_count": 17,
      "outputs": []
    },
    {
      "cell_type": "code",
      "metadata": {
        "id": "c2Txi_ZMLJaF",
        "colab_type": "code",
        "colab": {
          "base_uri": "https://localhost:8080/",
          "height": 442
        },
        "outputId": "1046cdbf-1f22-452f-9e2e-400a5ca846e2"
      },
      "source": [
        "num_epochs = 25\n",
        "for epoch in range (num_epochs):\n",
        "    exp_lr_scheduler.step()\n",
        "    #Reset the correct to 0 after passing through all the dataset\n",
        "    correct = 0\n",
        "    for images,labels in dataloaders['train']:\n",
        "        images = Variable(images)\n",
        "        labels = Variable(labels)\n",
        "        if torch.cuda.is_available():\n",
        "            images = images.cuda()\n",
        "            labels = labels.cuda()\n",
        "            \n",
        "        optimizer.zero_grad()\n",
        "        outputs = model_conv(images)\n",
        "        loss = criterion(outputs, labels)\n",
        "        loss.backward()\n",
        "        optimizer.step()  \n",
        "        _, predicted = torch.max(outputs, 1) \n",
        "        correct += (predicted == labels).sum()\n",
        "        \n",
        "    train_acc = 100 * correct // dataset_sizes['train']    \n",
        "    print ('Epoch [{}/{}], Loss: {:.4f}, Train Accuracy: {}%'\n",
        "            .format(epoch+1, num_epochs, loss.item(), train_acc))"
      ],
      "execution_count": 19,
      "outputs": [
        {
          "output_type": "stream",
          "text": [
            "Epoch [1/25], Loss: 2.1606, Train Accuracy: 79%\n",
            "Epoch [2/25], Loss: 0.9221, Train Accuracy: 73%\n",
            "Epoch [3/25], Loss: 0.7206, Train Accuracy: 80%\n",
            "Epoch [4/25], Loss: 0.0284, Train Accuracy: 83%\n",
            "Epoch [5/25], Loss: 0.0457, Train Accuracy: 73%\n",
            "Epoch [6/25], Loss: 0.3354, Train Accuracy: 82%\n",
            "Epoch [7/25], Loss: 0.5432, Train Accuracy: 86%\n",
            "Epoch [8/25], Loss: 0.0196, Train Accuracy: 78%\n",
            "Epoch [9/25], Loss: 0.2314, Train Accuracy: 84%\n",
            "Epoch [10/25], Loss: 0.3310, Train Accuracy: 80%\n",
            "Epoch [11/25], Loss: 0.0386, Train Accuracy: 79%\n",
            "Epoch [12/25], Loss: 0.1028, Train Accuracy: 85%\n",
            "Epoch [13/25], Loss: 0.3266, Train Accuracy: 86%\n",
            "Epoch [14/25], Loss: 0.0554, Train Accuracy: 87%\n",
            "Epoch [15/25], Loss: 0.3022, Train Accuracy: 85%\n",
            "Epoch [16/25], Loss: 0.2518, Train Accuracy: 83%\n",
            "Epoch [17/25], Loss: 0.0587, Train Accuracy: 86%\n",
            "Epoch [18/25], Loss: 0.0390, Train Accuracy: 83%\n",
            "Epoch [19/25], Loss: 0.0555, Train Accuracy: 80%\n",
            "Epoch [20/25], Loss: 0.0199, Train Accuracy: 84%\n",
            "Epoch [21/25], Loss: 0.0421, Train Accuracy: 84%\n",
            "Epoch [22/25], Loss: 0.0654, Train Accuracy: 82%\n",
            "Epoch [23/25], Loss: 0.8185, Train Accuracy: 81%\n",
            "Epoch [24/25], Loss: 0.3028, Train Accuracy: 83%\n",
            "Epoch [25/25], Loss: 0.2272, Train Accuracy: 85%\n"
          ],
          "name": "stdout"
        }
      ]
    },
    {
      "cell_type": "code",
      "metadata": {
        "id": "WFStbWNgLWd7",
        "colab_type": "code",
        "colab": {
          "base_uri": "https://localhost:8080/",
          "height": 34
        },
        "outputId": "bb04c1f0-ae81-4f7e-de08-9c6c9ecfc60d"
      },
      "source": [
        "# Test the model\n",
        "model_conv.eval()  \n",
        "with torch.no_grad():\n",
        "    correct = 0\n",
        "    total = 0\n",
        "    for (images, labels) in dataloaders['val']:\n",
        "        images = Variable(images)\n",
        "        labels = Variable(labels)\n",
        "        if torch.cuda.is_available():\n",
        "            images = images.cuda()\n",
        "            labels = labels.cuda()\n",
        "\n",
        "        outputs = model_conv(images)\n",
        "        _, predicted = torch.max(outputs.data, 1)\n",
        "        total += labels.size(0)\n",
        "        correct += (predicted == labels).sum().item()\n",
        "\n",
        "    print('Test Accuracy: {:.3f} %'.format(100 * correct / total))"
      ],
      "execution_count": 20,
      "outputs": [
        {
          "output_type": "stream",
          "text": [
            "Test Accuracy: 95.395 %\n"
          ],
          "name": "stdout"
        }
      ]
    },
    {
      "cell_type": "code",
      "metadata": {
        "id": "FFOna52GNqBf",
        "colab_type": "code",
        "colab": {
          "base_uri": "https://localhost:8080/",
          "height": 34
        },
        "outputId": "d5203920-3521-4bdf-f151-747f93bc96ce"
      },
      "source": [
        "class_names = image_datasets['train'].classes\n",
        "print(class_names)"
      ],
      "execution_count": 23,
      "outputs": [
        {
          "output_type": "stream",
          "text": [
            "['ants', 'bees']\n"
          ],
          "name": "stdout"
        }
      ]
    },
    {
      "cell_type": "code",
      "metadata": {
        "id": "qjoiwLecMORX",
        "colab_type": "code",
        "colab": {
          "base_uri": "https://localhost:8080/",
          "height": 264
        },
        "outputId": "f4d1f66b-3121-459c-c88d-42bb1bc995f2"
      },
      "source": [
        "#Visualize some predictions \n",
        "import matplotlib.pyplot as plt\n",
        "fig = plt.figure()\n",
        "shown_batch = 0\n",
        "index = 0\n",
        "with torch.no_grad():\n",
        "    for (images, labels) in dataloaders['val']:\n",
        "        if shown_batch == 1:\n",
        "            break\n",
        "        shown_batch += 1\n",
        "        images = Variable(images)\n",
        "        labels = Variable(labels)\n",
        "        if torch.cuda.is_available():\n",
        "            images = images.cuda()\n",
        "            labels = labels.cuda()\n",
        "\n",
        "        outputs = model_conv(images)                            #The output is of shape (4,2)\n",
        "        _, preds = torch.max(outputs, 1)                        #The pred is of shape (4) --> [ 0,  0,  0,  1]\n",
        "        \n",
        "        for i in range(4):\n",
        "            index += 1\n",
        "            ax = plt.subplot(2,2,index)\n",
        "            ax.axis('off')\n",
        "            ax.set_title('Predicted Label: {}'.format(class_names[preds[i]]))\n",
        "            input_img = images.cpu().data[i]                    #Get the tensor of the image, and put it to cpu  \n",
        "            inp = input_img.numpy().transpose((1, 2, 0))        #If we have a tensor of shape (2,3,4) --> it becomes (3,4,2)\n",
        "            mean = np.array([0.485, 0.456, 0.406])\n",
        "            std = np.array([0.229, 0.224, 0.225])\n",
        "            inp = std * inp + mean\n",
        "            inp = np.clip(inp, 0, 1)\n",
        "            plt.imshow(inp)"
      ],
      "execution_count": 24,
      "outputs": [
        {
          "output_type": "display_data",
          "data": {
            "image/png": "[encoded data removed]",
            "text/plain": [
              "<Figure size 432x288 with 4 Axes>"
            ]
          },
          "metadata": {
            "tags": [],
            "needs_background": "light"
          }
        }
      ]
    },
    {
      "cell_type": "code",
      "metadata": {
        "id": "3eX4q9HfM9Wo",
        "colab_type": "code",
        "colab": {}
      },
      "source": [
        "from PIL import Image\n",
        "import numpy as np"
      ],
      "execution_count": 31,
      "outputs": []
    },
    {
      "cell_type": "code",
      "metadata": {
        "id": "sDQXCUr2Srom",
        "colab_type": "code",
        "colab": {}
      },
      "source": [
        "test_image=Image.open('/content/drive/My Drive/Python/test ant image.jpg')\n",
        "test_image=test_image.resize([224,224])\n"
      ],
      "execution_count": 55,
      "outputs": []
    },
    {
      "cell_type": "code",
      "metadata": {
        "id": "whiC0-WlTE9r",
        "colab_type": "code",
        "colab": {
          "base_uri": "https://localhost:8080/",
          "height": 408
        },
        "outputId": "11ca5448-9c91-47f1-d7e6-8b9ae0aa94c8"
      },
      "source": [
        "\n",
        "test_image=data_transforms['val'](test_image)\n",
        "test_image=test_image.view(-1,3,224,224)\n",
        "print(test_image)"
      ],
      "execution_count": 56,
      "outputs": [
        {
          "output_type": "stream",
          "text": [
            "tensor([[[[ 0.7077,  0.7248,  0.7077,  ..., -0.7479, -0.7650, -0.7822],\n",
            "          [ 0.7248,  0.7248,  0.7248,  ..., -0.6965, -0.7137, -0.7479],\n",
            "          [ 0.7419,  0.7248,  0.7248,  ..., -0.6623, -0.6623, -0.7137],\n",
            "          ...,\n",
            "          [ 0.9817,  0.9303,  0.8961,  ...,  0.2282,  0.6221,  0.8789],\n",
            "          [ 1.0159,  0.9132,  0.8447,  ...,  0.9132,  0.7077,  0.7762],\n",
            "          [ 1.0502,  0.9474,  0.8447,  ...,  0.3652,  0.0912,  0.4679]],\n",
            "\n",
            "         [[ 0.6954,  0.6779,  0.6604,  ..., -0.8803, -0.8978, -0.9153],\n",
            "          [ 0.6779,  0.6779,  0.6779,  ..., -0.8452, -0.8627, -0.8803],\n",
            "          [ 0.6954,  0.6779,  0.6779,  ..., -0.8277, -0.8102, -0.8452],\n",
            "          ...,\n",
            "          [ 0.8704,  0.7829,  0.6779,  ...,  0.1527,  0.4853,  0.7129],\n",
            "          [ 0.8529,  0.7479,  0.6254,  ...,  0.8529,  0.5203,  0.6254],\n",
            "          [ 0.8529,  0.7479,  0.6604,  ...,  0.2402, -0.0399,  0.4153]],\n",
            "\n",
            "         [[ 0.8274,  0.8274,  0.8099,  ..., -0.8807, -0.8981, -0.9156],\n",
            "          [ 0.8274,  0.7925,  0.7925,  ..., -0.8458, -0.8633, -0.8981],\n",
            "          [ 0.8274,  0.7925,  0.7925,  ..., -0.8284, -0.8284, -0.8807],\n",
            "          ...,\n",
            "          [ 0.9319,  0.8274,  0.7054,  ...,  0.3393,  0.5311,  0.8274],\n",
            "          [ 0.9319,  0.8099,  0.6531,  ...,  0.6705,  0.3742,  0.6356],\n",
            "          [ 0.9494,  0.7751,  0.6182,  ..., -0.0441, -0.0267,  0.3742]]]])\n"
          ],
          "name": "stdout"
        }
      ]
    },
    {
      "cell_type": "code",
      "metadata": {
        "id": "wYq6DFJLWy4B",
        "colab_type": "code",
        "colab": {
          "base_uri": "https://localhost:8080/",
          "height": 34
        },
        "outputId": "417c9bc0-485d-43f3-d45e-097e49d66b41"
      },
      "source": [
        "test_image.shape"
      ],
      "execution_count": 57,
      "outputs": [
        {
          "output_type": "execute_result",
          "data": {
            "text/plain": [
              "torch.Size([1, 3, 224, 224])"
            ]
          },
          "metadata": {
            "tags": []
          },
          "execution_count": 57
        }
      ]
    },
    {
      "cell_type": "code",
      "metadata": {
        "id": "WZke0UcGTRWy",
        "colab_type": "code",
        "colab": {
          "base_uri": "https://localhost:8080/",
          "height": 51
        },
        "outputId": "5511c09b-ec7b-4571-c701-9d123d329da4"
      },
      "source": [
        "#Visualize some predictions \n",
        "import matplotlib.pyplot as plt\n",
        "fig = plt.figure()\n",
        "with torch.no_grad():\n",
        "  images = Variable(test_image)\n",
        "  if torch.cuda.is_available():\n",
        "    images = images.cuda()\n",
        "    outputs = model_conv(images)                            #The output is of shape (4,2)\n",
        "    _, preds = torch.max(outputs, 1)\n",
        "    print(class_names[preds])                        #The pred is of shape (4) --> [ 0,  0,  0,  1]"
      ],
      "execution_count": 60,
      "outputs": [
        {
          "output_type": "stream",
          "text": [
            "ants\n"
          ],
          "name": "stdout"
        },
        {
          "output_type": "display_data",
          "data": {
            "text/plain": [
              "<Figure size 432x288 with 0 Axes>"
            ]
          },
          "metadata": {
            "tags": []
          }
        }
      ]
    },
    {
      "cell_type": "code",
      "metadata": {
        "id": "tSCzvvasWYTg",
        "colab_type": "code",
        "colab": {}
      },
      "source": [
        ""
      ],
      "execution_count": null,
      "outputs": []
    }
  ]
}