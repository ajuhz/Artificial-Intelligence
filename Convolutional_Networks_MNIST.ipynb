{
  "nbformat": 4,
  "nbformat_minor": 0,
  "metadata": {
    "kernelspec": {
      "display_name": "Python 3",
      "language": "python",
      "name": "python3"
    },
    "language_info": {
      "codemirror_mode": {
        "name": "ipython",
        "version": 3
      },
      "file_extension": ".py",
      "mimetype": "text/x-python",
      "name": "python",
      "nbconvert_exporter": "python",
      "pygments_lexer": "ipython3",
      "version": "3.7.6"
    },
    "colab": {
      "name": "Convolutional Networks MNIST.ipynb",
      "provenance": [],
      "include_colab_link": true
    },
    "widgets": {
      "application/vnd.jupyter.widget-state+json": {
        "8e6fef4aeaea44cebc1e55b37c6292fe": {
          "model_module": "@jupyter-widgets/controls",
          "model_name": "HBoxModel",
          "state": {
            "_view_name": "HBoxView",
            "_dom_classes": [],
            "_model_name": "HBoxModel",
            "_view_module": "@jupyter-widgets/controls",
            "_model_module_version": "1.5.0",
            "_view_count": null,
            "_view_module_version": "1.5.0",
            "box_style": "",
            "layout": "IPY_MODEL_faed262e8ad54015857616aaab119e63",
            "_model_module": "@jupyter-widgets/controls",
            "children": [
              "IPY_MODEL_5c965984b033448faa5f84308810a66e",
              "IPY_MODEL_70c1d84b3d6443b6987cfc44787c725a"
            ]
          }
        },
        "faed262e8ad54015857616aaab119e63": {
          "model_module": "@jupyter-widgets/base",
          "model_name": "LayoutModel",
          "state": {
            "_view_name": "LayoutView",
            "grid_template_rows": null,
            "right": null,
            "justify_content": null,
            "_view_module": "@jupyter-widgets/base",
            "overflow": null,
            "_model_module_version": "1.2.0",
            "_view_count": null,
            "flex_flow": null,
            "width": null,
            "min_width": null,
            "border": null,
            "align_items": null,
            "bottom": null,
            "_model_module": "@jupyter-widgets/base",
            "top": null,
            "grid_column": null,
            "overflow_y": null,
            "overflow_x": null,
            "grid_auto_flow": null,
            "grid_area": null,
            "grid_template_columns": null,
            "flex": null,
            "_model_name": "LayoutModel",
            "justify_items": null,
            "grid_row": null,
            "max_height": null,
            "align_content": null,
            "visibility": null,
            "align_self": null,
            "height": null,
            "min_height": null,
            "padding": null,
            "grid_auto_rows": null,
            "grid_gap": null,
            "max_width": null,
            "order": null,
            "_view_module_version": "1.2.0",
            "grid_template_areas": null,
            "object_position": null,
            "object_fit": null,
            "grid_auto_columns": null,
            "margin": null,
            "display": null,
            "left": null
          }
        },
        "5c965984b033448faa5f84308810a66e": {
          "model_module": "@jupyter-widgets/controls",
          "model_name": "FloatProgressModel",
          "state": {
            "_view_name": "ProgressView",
            "style": "IPY_MODEL_36b843e64bc54a5db496198bd8b803d4",
            "_dom_classes": [],
            "description": "",
            "_model_name": "FloatProgressModel",
            "bar_style": "info",
            "max": 1,
            "_view_module": "@jupyter-widgets/controls",
            "_model_module_version": "1.5.0",
            "value": 1,
            "_view_count": null,
            "_view_module_version": "1.5.0",
            "orientation": "horizontal",
            "min": 0,
            "description_tooltip": null,
            "_model_module": "@jupyter-widgets/controls",
            "layout": "IPY_MODEL_3ae3bb70718d4b82ae284bbf329a4d78"
          }
        },
        "70c1d84b3d6443b6987cfc44787c725a": {
          "model_module": "@jupyter-widgets/controls",
          "model_name": "HTMLModel",
          "state": {
            "_view_name": "HTMLView",
            "style": "IPY_MODEL_e97e78c00b414f629188def68cc33761",
            "_dom_classes": [],
            "description": "",
            "_model_name": "HTMLModel",
            "placeholder": "​",
            "_view_module": "@jupyter-widgets/controls",
            "_model_module_version": "1.5.0",
            "value": " 9920512/? [00:20&lt;00:00, 9968984.22it/s]",
            "_view_count": null,
            "_view_module_version": "1.5.0",
            "description_tooltip": null,
            "_model_module": "@jupyter-widgets/controls",
            "layout": "IPY_MODEL_a4d2afb441414d7f95e39966b62c7e80"
          }
        },
        "36b843e64bc54a5db496198bd8b803d4": {
          "model_module": "@jupyter-widgets/controls",
          "model_name": "ProgressStyleModel",
          "state": {
            "_view_name": "StyleView",
            "_model_name": "ProgressStyleModel",
            "description_width": "initial",
            "_view_module": "@jupyter-widgets/base",
            "_model_module_version": "1.5.0",
            "_view_count": null,
            "_view_module_version": "1.2.0",
            "bar_color": null,
            "_model_module": "@jupyter-widgets/controls"
          }
        },
        "3ae3bb70718d4b82ae284bbf329a4d78": {
          "model_module": "@jupyter-widgets/base",
          "model_name": "LayoutModel",
          "state": {
            "_view_name": "LayoutView",
            "grid_template_rows": null,
            "right": null,
            "justify_content": null,
            "_view_module": "@jupyter-widgets/base",
            "overflow": null,
            "_model_module_version": "1.2.0",
            "_view_count": null,
            "flex_flow": null,
            "width": null,
            "min_width": null,
            "border": null,
            "align_items": null,
            "bottom": null,
            "_model_module": "@jupyter-widgets/base",
            "top": null,
            "grid_column": null,
            "overflow_y": null,
            "overflow_x": null,
            "grid_auto_flow": null,
            "grid_area": null,
            "grid_template_columns": null,
            "flex": null,
            "_model_name": "LayoutModel",
            "justify_items": null,
            "grid_row": null,
            "max_height": null,
            "align_content": null,
            "visibility": null,
            "align_self": null,
            "height": null,
            "min_height": null,
            "padding": null,
            "grid_auto_rows": null,
            "grid_gap": null,
            "max_width": null,
            "order": null,
            "_view_module_version": "1.2.0",
            "grid_template_areas": null,
            "object_position": null,
            "object_fit": null,
            "grid_auto_columns": null,
            "margin": null,
            "display": null,
            "left": null
          }
        },
        "e97e78c00b414f629188def68cc33761": {
          "model_module": "@jupyter-widgets/controls",
          "model_name": "DescriptionStyleModel",
          "state": {
            "_view_name": "StyleView",
            "_model_name": "DescriptionStyleModel",
            "description_width": "",
            "_view_module": "@jupyter-widgets/base",
            "_model_module_version": "1.5.0",
            "_view_count": null,
            "_view_module_version": "1.2.0",
            "_model_module": "@jupyter-widgets/controls"
          }
        },
        "a4d2afb441414d7f95e39966b62c7e80": {
          "model_module": "@jupyter-widgets/base",
          "model_name": "LayoutModel",
          "state": {
            "_view_name": "LayoutView",
            "grid_template_rows": null,
            "right": null,
            "justify_content": null,
            "_view_module": "@jupyter-widgets/base",
            "overflow": null,
            "_model_module_version": "1.2.0",
            "_view_count": null,
            "flex_flow": null,
            "width": null,
            "min_width": null,
            "border": null,
            "align_items": null,
            "bottom": null,
            "_model_module": "@jupyter-widgets/base",
            "top": null,
            "grid_column": null,
            "overflow_y": null,
            "overflow_x": null,
            "grid_auto_flow": null,
            "grid_area": null,
            "grid_template_columns": null,
            "flex": null,
            "_model_name": "LayoutModel",
            "justify_items": null,
            "grid_row": null,
            "max_height": null,
            "align_content": null,
            "visibility": null,
            "align_self": null,
            "height": null,
            "min_height": null,
            "padding": null,
            "grid_auto_rows": null,
            "grid_gap": null,
            "max_width": null,
            "order": null,
            "_view_module_version": "1.2.0",
            "grid_template_areas": null,
            "object_position": null,
            "object_fit": null,
            "grid_auto_columns": null,
            "margin": null,
            "display": null,
            "left": null
          }
        },
        "a22bd87a9e0b4f8089ea2a807c14c2f0": {
          "model_module": "@jupyter-widgets/controls",
          "model_name": "HBoxModel",
          "state": {
            "_view_name": "HBoxView",
            "_dom_classes": [],
            "_model_name": "HBoxModel",
            "_view_module": "@jupyter-widgets/controls",
            "_model_module_version": "1.5.0",
            "_view_count": null,
            "_view_module_version": "1.5.0",
            "box_style": "",
            "layout": "IPY_MODEL_58116bd52be8421e83b21ae98ccb5d9c",
            "_model_module": "@jupyter-widgets/controls",
            "children": [
              "IPY_MODEL_b6c40d9bcf5a4f7da2ae2f33fbb6c9c4",
              "IPY_MODEL_9443cb41b2da4948ac0f30e8538a1915"
            ]
          }
        },
        "58116bd52be8421e83b21ae98ccb5d9c": {
          "model_module": "@jupyter-widgets/base",
          "model_name": "LayoutModel",
          "state": {
            "_view_name": "LayoutView",
            "grid_template_rows": null,
            "right": null,
            "justify_content": null,
            "_view_module": "@jupyter-widgets/base",
            "overflow": null,
            "_model_module_version": "1.2.0",
            "_view_count": null,
            "flex_flow": null,
            "width": null,
            "min_width": null,
            "border": null,
            "align_items": null,
            "bottom": null,
            "_model_module": "@jupyter-widgets/base",
            "top": null,
            "grid_column": null,
            "overflow_y": null,
            "overflow_x": null,
            "grid_auto_flow": null,
            "grid_area": null,
            "grid_template_columns": null,
            "flex": null,
            "_model_name": "LayoutModel",
            "justify_items": null,
            "grid_row": null,
            "max_height": null,
            "align_content": null,
            "visibility": null,
            "align_self": null,
            "height": null,
            "min_height": null,
            "padding": null,
            "grid_auto_rows": null,
            "grid_gap": null,
            "max_width": null,
            "order": null,
            "_view_module_version": "1.2.0",
            "grid_template_areas": null,
            "object_position": null,
            "object_fit": null,
            "grid_auto_columns": null,
            "margin": null,
            "display": null,
            "left": null
          }
        },
        "b6c40d9bcf5a4f7da2ae2f33fbb6c9c4": {
          "model_module": "@jupyter-widgets/controls",
          "model_name": "FloatProgressModel",
          "state": {
            "_view_name": "ProgressView",
            "style": "IPY_MODEL_ecf77d3864cb402382152c79408c1988",
            "_dom_classes": [],
            "description": "",
            "_model_name": "FloatProgressModel",
            "bar_style": "success",
            "max": 1,
            "_view_module": "@jupyter-widgets/controls",
            "_model_module_version": "1.5.0",
            "value": 1,
            "_view_count": null,
            "_view_module_version": "1.5.0",
            "orientation": "horizontal",
            "min": 0,
            "description_tooltip": null,
            "_model_module": "@jupyter-widgets/controls",
            "layout": "IPY_MODEL_fbfb92294b514e549c7889dba9c35c5e"
          }
        },
        "9443cb41b2da4948ac0f30e8538a1915": {
          "model_module": "@jupyter-widgets/controls",
          "model_name": "HTMLModel",
          "state": {
            "_view_name": "HTMLView",
            "style": "IPY_MODEL_248db9dcbf914ab4a3a6eaaa89d1e9e7",
            "_dom_classes": [],
            "description": "",
            "_model_name": "HTMLModel",
            "placeholder": "​",
            "_view_module": "@jupyter-widgets/controls",
            "_model_module_version": "1.5.0",
            "value": " 32768/? [00:00&lt;00:00, 224800.09it/s]",
            "_view_count": null,
            "_view_module_version": "1.5.0",
            "description_tooltip": null,
            "_model_module": "@jupyter-widgets/controls",
            "layout": "IPY_MODEL_dbf84b72639b422585b87d928b9eed00"
          }
        },
        "ecf77d3864cb402382152c79408c1988": {
          "model_module": "@jupyter-widgets/controls",
          "model_name": "ProgressStyleModel",
          "state": {
            "_view_name": "StyleView",
            "_model_name": "ProgressStyleModel",
            "description_width": "initial",
            "_view_module": "@jupyter-widgets/base",
            "_model_module_version": "1.5.0",
            "_view_count": null,
            "_view_module_version": "1.2.0",
            "bar_color": null,
            "_model_module": "@jupyter-widgets/controls"
          }
        },
        "fbfb92294b514e549c7889dba9c35c5e": {
          "model_module": "@jupyter-widgets/base",
          "model_name": "LayoutModel",
          "state": {
            "_view_name": "LayoutView",
            "grid_template_rows": null,
            "right": null,
            "justify_content": null,
            "_view_module": "@jupyter-widgets/base",
            "overflow": null,
            "_model_module_version": "1.2.0",
            "_view_count": null,
            "flex_flow": null,
            "width": null,
            "min_width": null,
            "border": null,
            "align_items": null,
            "bottom": null,
            "_model_module": "@jupyter-widgets/base",
            "top": null,
            "grid_column": null,
            "overflow_y": null,
            "overflow_x": null,
            "grid_auto_flow": null,
            "grid_area": null,
            "grid_template_columns": null,
            "flex": null,
            "_model_name": "LayoutModel",
            "justify_items": null,
            "grid_row": null,
            "max_height": null,
            "align_content": null,
            "visibility": null,
            "align_self": null,
            "height": null,
            "min_height": null,
            "padding": null,
            "grid_auto_rows": null,
            "grid_gap": null,
            "max_width": null,
            "order": null,
            "_view_module_version": "1.2.0",
            "grid_template_areas": null,
            "object_position": null,
            "object_fit": null,
            "grid_auto_columns": null,
            "margin": null,
            "display": null,
            "left": null
          }
        },
        "248db9dcbf914ab4a3a6eaaa89d1e9e7": {
          "model_module": "@jupyter-widgets/controls",
          "model_name": "DescriptionStyleModel",
          "state": {
            "_view_name": "StyleView",
            "_model_name": "DescriptionStyleModel",
            "description_width": "",
            "_view_module": "@jupyter-widgets/base",
            "_model_module_version": "1.5.0",
            "_view_count": null,
            "_view_module_version": "1.2.0",
            "_model_module": "@jupyter-widgets/controls"
          }
        },
        "dbf84b72639b422585b87d928b9eed00": {
          "model_module": "@jupyter-widgets/base",
          "model_name": "LayoutModel",
          "state": {
            "_view_name": "LayoutView",
            "grid_template_rows": null,
            "right": null,
            "justify_content": null,
            "_view_module": "@jupyter-widgets/base",
            "overflow": null,
            "_model_module_version": "1.2.0",
            "_view_count": null,
            "flex_flow": null,
            "width": null,
            "min_width": null,
            "border": null,
            "align_items": null,
            "bottom": null,
            "_model_module": "@jupyter-widgets/base",
            "top": null,
            "grid_column": null,
            "overflow_y": null,
            "overflow_x": null,
            "grid_auto_flow": null,
            "grid_area": null,
            "grid_template_columns": null,
            "flex": null,
            "_model_name": "LayoutModel",
            "justify_items": null,
            "grid_row": null,
            "max_height": null,
            "align_content": null,
            "visibility": null,
            "align_self": null,
            "height": null,
            "min_height": null,
            "padding": null,
            "grid_auto_rows": null,
            "grid_gap": null,
            "max_width": null,
            "order": null,
            "_view_module_version": "1.2.0",
            "grid_template_areas": null,
            "object_position": null,
            "object_fit": null,
            "grid_auto_columns": null,
            "margin": null,
            "display": null,
            "left": null
          }
        },
        "e96433177bed4fa9a09942f5d9db16dd": {
          "model_module": "@jupyter-widgets/controls",
          "model_name": "HBoxModel",
          "state": {
            "_view_name": "HBoxView",
            "_dom_classes": [],
            "_model_name": "HBoxModel",
            "_view_module": "@jupyter-widgets/controls",
            "_model_module_version": "1.5.0",
            "_view_count": null,
            "_view_module_version": "1.5.0",
            "box_style": "",
            "layout": "IPY_MODEL_9eec78eb578b49388ca0f5c4780afc5b",
            "_model_module": "@jupyter-widgets/controls",
            "children": [
              "IPY_MODEL_8d25d30f2cb547de85e61fa27041482b",
              "IPY_MODEL_7fb5128af653418cb7b96bce8799322f"
            ]
          }
        },
        "9eec78eb578b49388ca0f5c4780afc5b": {
          "model_module": "@jupyter-widgets/base",
          "model_name": "LayoutModel",
          "state": {
            "_view_name": "LayoutView",
            "grid_template_rows": null,
            "right": null,
            "justify_content": null,
            "_view_module": "@jupyter-widgets/base",
            "overflow": null,
            "_model_module_version": "1.2.0",
            "_view_count": null,
            "flex_flow": null,
            "width": null,
            "min_width": null,
            "border": null,
            "align_items": null,
            "bottom": null,
            "_model_module": "@jupyter-widgets/base",
            "top": null,
            "grid_column": null,
            "overflow_y": null,
            "overflow_x": null,
            "grid_auto_flow": null,
            "grid_area": null,
            "grid_template_columns": null,
            "flex": null,
            "_model_name": "LayoutModel",
            "justify_items": null,
            "grid_row": null,
            "max_height": null,
            "align_content": null,
            "visibility": null,
            "align_self": null,
            "height": null,
            "min_height": null,
            "padding": null,
            "grid_auto_rows": null,
            "grid_gap": null,
            "max_width": null,
            "order": null,
            "_view_module_version": "1.2.0",
            "grid_template_areas": null,
            "object_position": null,
            "object_fit": null,
            "grid_auto_columns": null,
            "margin": null,
            "display": null,
            "left": null
          }
        },
        "8d25d30f2cb547de85e61fa27041482b": {
          "model_module": "@jupyter-widgets/controls",
          "model_name": "FloatProgressModel",
          "state": {
            "_view_name": "ProgressView",
            "style": "IPY_MODEL_f7d61976cac24a868b1d3f1181a84d92",
            "_dom_classes": [],
            "description": "",
            "_model_name": "FloatProgressModel",
            "bar_style": "info",
            "max": 1,
            "_view_module": "@jupyter-widgets/controls",
            "_model_module_version": "1.5.0",
            "value": 1,
            "_view_count": null,
            "_view_module_version": "1.5.0",
            "orientation": "horizontal",
            "min": 0,
            "description_tooltip": null,
            "_model_module": "@jupyter-widgets/controls",
            "layout": "IPY_MODEL_7587781fef8e41649108ac8fbcd23d94"
          }
        },
        "7fb5128af653418cb7b96bce8799322f": {
          "model_module": "@jupyter-widgets/controls",
          "model_name": "HTMLModel",
          "state": {
            "_view_name": "HTMLView",
            "style": "IPY_MODEL_3aa0960992874c45b6293a3ea282c144",
            "_dom_classes": [],
            "description": "",
            "_model_name": "HTMLModel",
            "placeholder": "​",
            "_view_module": "@jupyter-widgets/controls",
            "_model_module_version": "1.5.0",
            "value": " 1654784/? [00:19&lt;00:00, 9737624.06it/s]",
            "_view_count": null,
            "_view_module_version": "1.5.0",
            "description_tooltip": null,
            "_model_module": "@jupyter-widgets/controls",
            "layout": "IPY_MODEL_8e5dde27b6bf4578b2f5b37b6640a420"
          }
        },
        "f7d61976cac24a868b1d3f1181a84d92": {
          "model_module": "@jupyter-widgets/controls",
          "model_name": "ProgressStyleModel",
          "state": {
            "_view_name": "StyleView",
            "_model_name": "ProgressStyleModel",
            "description_width": "initial",
            "_view_module": "@jupyter-widgets/base",
            "_model_module_version": "1.5.0",
            "_view_count": null,
            "_view_module_version": "1.2.0",
            "bar_color": null,
            "_model_module": "@jupyter-widgets/controls"
          }
        },
        "7587781fef8e41649108ac8fbcd23d94": {
          "model_module": "@jupyter-widgets/base",
          "model_name": "LayoutModel",
          "state": {
            "_view_name": "LayoutView",
            "grid_template_rows": null,
            "right": null,
            "justify_content": null,
            "_view_module": "@jupyter-widgets/base",
            "overflow": null,
            "_model_module_version": "1.2.0",
            "_view_count": null,
            "flex_flow": null,
            "width": null,
            "min_width": null,
            "border": null,
            "align_items": null,
            "bottom": null,
            "_model_module": "@jupyter-widgets/base",
            "top": null,
            "grid_column": null,
            "overflow_y": null,
            "overflow_x": null,
            "grid_auto_flow": null,
            "grid_area": null,
            "grid_template_columns": null,
            "flex": null,
            "_model_name": "LayoutModel",
            "justify_items": null,
            "grid_row": null,
            "max_height": null,
            "align_content": null,
            "visibility": null,
            "align_self": null,
            "height": null,
            "min_height": null,
            "padding": null,
            "grid_auto_rows": null,
            "grid_gap": null,
            "max_width": null,
            "order": null,
            "_view_module_version": "1.2.0",
            "grid_template_areas": null,
            "object_position": null,
            "object_fit": null,
            "grid_auto_columns": null,
            "margin": null,
            "display": null,
            "left": null
          }
        },
        "3aa0960992874c45b6293a3ea282c144": {
          "model_module": "@jupyter-widgets/controls",
          "model_name": "DescriptionStyleModel",
          "state": {
            "_view_name": "StyleView",
            "_model_name": "DescriptionStyleModel",
            "description_width": "",
            "_view_module": "@jupyter-widgets/base",
            "_model_module_version": "1.5.0",
            "_view_count": null,
            "_view_module_version": "1.2.0",
            "_model_module": "@jupyter-widgets/controls"
          }
        },
        "8e5dde27b6bf4578b2f5b37b6640a420": {
          "model_module": "@jupyter-widgets/base",
          "model_name": "LayoutModel",
          "state": {
            "_view_name": "LayoutView",
            "grid_template_rows": null,
            "right": null,
            "justify_content": null,
            "_view_module": "@jupyter-widgets/base",
            "overflow": null,
            "_model_module_version": "1.2.0",
            "_view_count": null,
            "flex_flow": null,
            "width": null,
            "min_width": null,
            "border": null,
            "align_items": null,
            "bottom": null,
            "_model_module": "@jupyter-widgets/base",
            "top": null,
            "grid_column": null,
            "overflow_y": null,
            "overflow_x": null,
            "grid_auto_flow": null,
            "grid_area": null,
            "grid_template_columns": null,
            "flex": null,
            "_model_name": "LayoutModel",
            "justify_items": null,
            "grid_row": null,
            "max_height": null,
            "align_content": null,
            "visibility": null,
            "align_self": null,
            "height": null,
            "min_height": null,
            "padding": null,
            "grid_auto_rows": null,
            "grid_gap": null,
            "max_width": null,
            "order": null,
            "_view_module_version": "1.2.0",
            "grid_template_areas": null,
            "object_position": null,
            "object_fit": null,
            "grid_auto_columns": null,
            "margin": null,
            "display": null,
            "left": null
          }
        },
        "ce4ea4d02bb34447867da5c281d53e61": {
          "model_module": "@jupyter-widgets/controls",
          "model_name": "HBoxModel",
          "state": {
            "_view_name": "HBoxView",
            "_dom_classes": [],
            "_model_name": "HBoxModel",
            "_view_module": "@jupyter-widgets/controls",
            "_model_module_version": "1.5.0",
            "_view_count": null,
            "_view_module_version": "1.5.0",
            "box_style": "",
            "layout": "IPY_MODEL_8e3d1f8fe2834e6eab304cbf9c67c4a5",
            "_model_module": "@jupyter-widgets/controls",
            "children": [
              "IPY_MODEL_19f7300a2fe1420188257e21c49ca0bf",
              "IPY_MODEL_c237598cb37c4bebae246e42a70c04cc"
            ]
          }
        },
        "8e3d1f8fe2834e6eab304cbf9c67c4a5": {
          "model_module": "@jupyter-widgets/base",
          "model_name": "LayoutModel",
          "state": {
            "_view_name": "LayoutView",
            "grid_template_rows": null,
            "right": null,
            "justify_content": null,
            "_view_module": "@jupyter-widgets/base",
            "overflow": null,
            "_model_module_version": "1.2.0",
            "_view_count": null,
            "flex_flow": null,
            "width": null,
            "min_width": null,
            "border": null,
            "align_items": null,
            "bottom": null,
            "_model_module": "@jupyter-widgets/base",
            "top": null,
            "grid_column": null,
            "overflow_y": null,
            "overflow_x": null,
            "grid_auto_flow": null,
            "grid_area": null,
            "grid_template_columns": null,
            "flex": null,
            "_model_name": "LayoutModel",
            "justify_items": null,
            "grid_row": null,
            "max_height": null,
            "align_content": null,
            "visibility": null,
            "align_self": null,
            "height": null,
            "min_height": null,
            "padding": null,
            "grid_auto_rows": null,
            "grid_gap": null,
            "max_width": null,
            "order": null,
            "_view_module_version": "1.2.0",
            "grid_template_areas": null,
            "object_position": null,
            "object_fit": null,
            "grid_auto_columns": null,
            "margin": null,
            "display": null,
            "left": null
          }
        },
        "19f7300a2fe1420188257e21c49ca0bf": {
          "model_module": "@jupyter-widgets/controls",
          "model_name": "FloatProgressModel",
          "state": {
            "_view_name": "ProgressView",
            "style": "IPY_MODEL_61284f4d29e446b4bda027ea7803b769",
            "_dom_classes": [],
            "description": "",
            "_model_name": "FloatProgressModel",
            "bar_style": "info",
            "max": 1,
            "_view_module": "@jupyter-widgets/controls",
            "_model_module_version": "1.5.0",
            "value": 0,
            "_view_count": null,
            "_view_module_version": "1.5.0",
            "orientation": "horizontal",
            "min": 0,
            "description_tooltip": null,
            "_model_module": "@jupyter-widgets/controls",
            "layout": "IPY_MODEL_ec32aeb275ea47d199fef40705fe2915"
          }
        },
        "c237598cb37c4bebae246e42a70c04cc": {
          "model_module": "@jupyter-widgets/controls",
          "model_name": "HTMLModel",
          "state": {
            "_view_name": "HTMLView",
            "style": "IPY_MODEL_a59e63f2a75444d183e0ee155beb7bea",
            "_dom_classes": [],
            "description": "",
            "_model_name": "HTMLModel",
            "placeholder": "​",
            "_view_module": "@jupyter-widgets/controls",
            "_model_module_version": "1.5.0",
            "value": " 0/? [00:00&lt;?, ?it/s]",
            "_view_count": null,
            "_view_module_version": "1.5.0",
            "description_tooltip": null,
            "_model_module": "@jupyter-widgets/controls",
            "layout": "IPY_MODEL_3ff4ecb999704d119e5c81ec3dd5a516"
          }
        },
        "61284f4d29e446b4bda027ea7803b769": {
          "model_module": "@jupyter-widgets/controls",
          "model_name": "ProgressStyleModel",
          "state": {
            "_view_name": "StyleView",
            "_model_name": "ProgressStyleModel",
            "description_width": "initial",
            "_view_module": "@jupyter-widgets/base",
            "_model_module_version": "1.5.0",
            "_view_count": null,
            "_view_module_version": "1.2.0",
            "bar_color": null,
            "_model_module": "@jupyter-widgets/controls"
          }
        },
        "ec32aeb275ea47d199fef40705fe2915": {
          "model_module": "@jupyter-widgets/base",
          "model_name": "LayoutModel",
          "state": {
            "_view_name": "LayoutView",
            "grid_template_rows": null,
            "right": null,
            "justify_content": null,
            "_view_module": "@jupyter-widgets/base",
            "overflow": null,
            "_model_module_version": "1.2.0",
            "_view_count": null,
            "flex_flow": null,
            "width": null,
            "min_width": null,
            "border": null,
            "align_items": null,
            "bottom": null,
            "_model_module": "@jupyter-widgets/base",
            "top": null,
            "grid_column": null,
            "overflow_y": null,
            "overflow_x": null,
            "grid_auto_flow": null,
            "grid_area": null,
            "grid_template_columns": null,
            "flex": null,
            "_model_name": "LayoutModel",
            "justify_items": null,
            "grid_row": null,
            "max_height": null,
            "align_content": null,
            "visibility": null,
            "align_self": null,
            "height": null,
            "min_height": null,
            "padding": null,
            "grid_auto_rows": null,
            "grid_gap": null,
            "max_width": null,
            "order": null,
            "_view_module_version": "1.2.0",
            "grid_template_areas": null,
            "object_position": null,
            "object_fit": null,
            "grid_auto_columns": null,
            "margin": null,
            "display": null,
            "left": null
          }
        },
        "a59e63f2a75444d183e0ee155beb7bea": {
          "model_module": "@jupyter-widgets/controls",
          "model_name": "DescriptionStyleModel",
          "state": {
            "_view_name": "StyleView",
            "_model_name": "DescriptionStyleModel",
            "description_width": "",
            "_view_module": "@jupyter-widgets/base",
            "_model_module_version": "1.5.0",
            "_view_count": null,
            "_view_module_version": "1.2.0",
            "_model_module": "@jupyter-widgets/controls"
          }
        },
        "3ff4ecb999704d119e5c81ec3dd5a516": {
          "model_module": "@jupyter-widgets/base",
          "model_name": "LayoutModel",
          "state": {
            "_view_name": "LayoutView",
            "grid_template_rows": null,
            "right": null,
            "justify_content": null,
            "_view_module": "@jupyter-widgets/base",
            "overflow": null,
            "_model_module_version": "1.2.0",
            "_view_count": null,
            "flex_flow": null,
            "width": null,
            "min_width": null,
            "border": null,
            "align_items": null,
            "bottom": null,
            "_model_module": "@jupyter-widgets/base",
            "top": null,
            "grid_column": null,
            "overflow_y": null,
            "overflow_x": null,
            "grid_auto_flow": null,
            "grid_area": null,
            "grid_template_columns": null,
            "flex": null,
            "_model_name": "LayoutModel",
            "justify_items": null,
            "grid_row": null,
            "max_height": null,
            "align_content": null,
            "visibility": null,
            "align_self": null,
            "height": null,
            "min_height": null,
            "padding": null,
            "grid_auto_rows": null,
            "grid_gap": null,
            "max_width": null,
            "order": null,
            "_view_module_version": "1.2.0",
            "grid_template_areas": null,
            "object_position": null,
            "object_fit": null,
            "grid_auto_columns": null,
            "margin": null,
            "display": null,
            "left": null
          }
        }
      }
    }
  },
  "cells": [
    {
      "cell_type": "markdown",
      "metadata": {
        "id": "view-in-github",
        "colab_type": "text"
      },
      "source": [
        "<a href=\"https://colab.research.google.com/github/ajuhz/Artificial-Intelligence/blob/master/Convolutional_Networks_MNIST.ipynb\" target=\"_parent\"><img src=\"https://colab.research.google.com/assets/colab-badge.svg\" alt=\"Open In Colab\"/></a>"
      ]
    },
    {
      "cell_type": "code",
      "metadata": {
        "id": "1dLX2bfd_7lw",
        "colab_type": "code",
        "colab": {}
      },
      "source": [
        "import torch\n",
        "import torch.nn as nn\n",
        "import torchvision.transforms as transforms\n",
        "import torchvision.datasets as datasets\n",
        "from torch.autograd import Variable"
      ],
      "execution_count": 1,
      "outputs": []
    },
    {
      "cell_type": "code",
      "metadata": {
        "id": "eB1hFv4a_7mG",
        "colab_type": "code",
        "colab": {
          "base_uri": "https://localhost:8080/",
          "height": 369,
          "referenced_widgets": [
            "8e6fef4aeaea44cebc1e55b37c6292fe",
            "faed262e8ad54015857616aaab119e63",
            "5c965984b033448faa5f84308810a66e",
            "70c1d84b3d6443b6987cfc44787c725a",
            "36b843e64bc54a5db496198bd8b803d4",
            "3ae3bb70718d4b82ae284bbf329a4d78",
            "e97e78c00b414f629188def68cc33761",
            "a4d2afb441414d7f95e39966b62c7e80",
            "a22bd87a9e0b4f8089ea2a807c14c2f0",
            "58116bd52be8421e83b21ae98ccb5d9c",
            "b6c40d9bcf5a4f7da2ae2f33fbb6c9c4",
            "9443cb41b2da4948ac0f30e8538a1915",
            "ecf77d3864cb402382152c79408c1988",
            "fbfb92294b514e549c7889dba9c35c5e",
            "248db9dcbf914ab4a3a6eaaa89d1e9e7",
            "dbf84b72639b422585b87d928b9eed00",
            "e96433177bed4fa9a09942f5d9db16dd",
            "9eec78eb578b49388ca0f5c4780afc5b",
            "8d25d30f2cb547de85e61fa27041482b",
            "7fb5128af653418cb7b96bce8799322f",
            "f7d61976cac24a868b1d3f1181a84d92",
            "7587781fef8e41649108ac8fbcd23d94",
            "3aa0960992874c45b6293a3ea282c144",
            "8e5dde27b6bf4578b2f5b37b6640a420",
            "ce4ea4d02bb34447867da5c281d53e61",
            "8e3d1f8fe2834e6eab304cbf9c67c4a5",
            "19f7300a2fe1420188257e21c49ca0bf",
            "c237598cb37c4bebae246e42a70c04cc",
            "61284f4d29e446b4bda027ea7803b769",
            "ec32aeb275ea47d199fef40705fe2915",
            "a59e63f2a75444d183e0ee155beb7bea",
            "3ff4ecb999704d119e5c81ec3dd5a516"
          ]
        },
        "outputId": "8c6e41a9-8d02-46b6-9384-adf8c49dae8d"
      },
      "source": [
        "# Specify the Mean and standard deviation of all the pixels in the MNIST dataset. They are precomputed \n",
        "mean_gray = 0.1307\n",
        "stddev_gray = 0.3081\n",
        "\n",
        "#Transform the images to tensors\n",
        "#Normalize a tensor image with mean and standard deviation. Given mean: (M1,...,Mn) and std: (S1,..,Sn) \n",
        "#for n channels, this transform will normalize each channel of the input torch.Tensor\n",
        "#i.e. input[channel] = (input[channel] - mean[channel]) / std[channel]\n",
        "\n",
        "transforms = transforms.Compose([transforms.ToTensor(),\n",
        "                                transforms.Normalize((mean_gray,), (stddev_gray,))])\n",
        "\n",
        "#Load our dataset\n",
        "train_dataset = datasets.MNIST(root = './data', \n",
        "                            train = True, \n",
        "                            transform = transforms,\n",
        "                            download = True)\n",
        "\n",
        "test_dataset = datasets.MNIST(root = './data', \n",
        "                            train = False, \n",
        "                            transform = transforms)"
      ],
      "execution_count": 2,
      "outputs": [
        {
          "output_type": "stream",
          "text": [
            "Downloading http://yann.lecun.com/exdb/mnist/train-images-idx3-ubyte.gz to ./data/MNIST/raw/train-images-idx3-ubyte.gz\n"
          ],
          "name": "stdout"
        },
        {
          "output_type": "display_data",
          "data": {
            "application/vnd.jupyter.widget-view+json": {
              "model_id": "8e6fef4aeaea44cebc1e55b37c6292fe",
              "version_minor": 0,
              "version_major": 2
            },
            "text/plain": [
              "HBox(children=(FloatProgress(value=1.0, bar_style='info', max=1.0), HTML(value='')))"
            ]
          },
          "metadata": {
            "tags": []
          }
        },
        {
          "output_type": "stream",
          "text": [
            "Extracting ./data/MNIST/raw/train-images-idx3-ubyte.gz to ./data/MNIST/raw\n",
            "Downloading http://yann.lecun.com/exdb/mnist/train-labels-idx1-ubyte.gz to ./data/MNIST/raw/train-labels-idx1-ubyte.gz\n"
          ],
          "name": "stdout"
        },
        {
          "output_type": "display_data",
          "data": {
            "application/vnd.jupyter.widget-view+json": {
              "model_id": "a22bd87a9e0b4f8089ea2a807c14c2f0",
              "version_minor": 0,
              "version_major": 2
            },
            "text/plain": [
              "HBox(children=(FloatProgress(value=1.0, bar_style='info', max=1.0), HTML(value='')))"
            ]
          },
          "metadata": {
            "tags": []
          }
        },
        {
          "output_type": "stream",
          "text": [
            "Extracting ./data/MNIST/raw/train-labels-idx1-ubyte.gz to ./data/MNIST/raw\n",
            "Downloading http://yann.lecun.com/exdb/mnist/t10k-images-idx3-ubyte.gz to ./data/MNIST/raw/t10k-images-idx3-ubyte.gz\n",
            "\n"
          ],
          "name": "stdout"
        },
        {
          "output_type": "display_data",
          "data": {
            "application/vnd.jupyter.widget-view+json": {
              "model_id": "e96433177bed4fa9a09942f5d9db16dd",
              "version_minor": 0,
              "version_major": 2
            },
            "text/plain": [
              "HBox(children=(FloatProgress(value=1.0, bar_style='info', max=1.0), HTML(value='')))"
            ]
          },
          "metadata": {
            "tags": []
          }
        },
        {
          "output_type": "stream",
          "text": [
            "Extracting ./data/MNIST/raw/t10k-images-idx3-ubyte.gz to ./data/MNIST/raw\n",
            "Downloading http://yann.lecun.com/exdb/mnist/t10k-labels-idx1-ubyte.gz to ./data/MNIST/raw/t10k-labels-idx1-ubyte.gz\n"
          ],
          "name": "stdout"
        },
        {
          "output_type": "display_data",
          "data": {
            "application/vnd.jupyter.widget-view+json": {
              "model_id": "ce4ea4d02bb34447867da5c281d53e61",
              "version_minor": 0,
              "version_major": 2
            },
            "text/plain": [
              "HBox(children=(FloatProgress(value=1.0, bar_style='info', max=1.0), HTML(value='')))"
            ]
          },
          "metadata": {
            "tags": []
          }
        },
        {
          "output_type": "stream",
          "text": [
            "Extracting ./data/MNIST/raw/t10k-labels-idx1-ubyte.gz to ./data/MNIST/raw\n",
            "Processing...\n",
            "Done!\n"
          ],
          "name": "stdout"
        },
        {
          "output_type": "stream",
          "text": [
            "/pytorch/torch/csrc/utils/tensor_numpy.cpp:141: UserWarning: The given NumPy array is not writeable, and PyTorch does not support non-writeable tensors. This means you can write to the underlying (supposedly non-writeable) NumPy array using the tensor. You may want to copy the array to protect its data or make it writeable before converting it to a tensor. This type of warning will be suppressed for the rest of this program.\n"
          ],
          "name": "stderr"
        }
      ]
    },
    {
      "cell_type": "code",
      "metadata": {
        "id": "dQe3Lo6q_7mW",
        "colab_type": "code",
        "colab": {
          "base_uri": "https://localhost:8080/",
          "height": 282
        },
        "outputId": "58e81339-322d-42b4-ce92-09d0688ab199"
      },
      "source": [
        "import matplotlib.pyplot as plt\n",
        "random_image = train_dataset[20][0].numpy() * stddev_gray + mean_gray\n",
        "plt.imshow(random_image.reshape(28, 28), cmap='gray')"
      ],
      "execution_count": 3,
      "outputs": [
        {
          "output_type": "execute_result",
          "data": {
            "text/plain": [
              "<matplotlib.image.AxesImage at 0x7f6a843a5fd0>"
            ]
          },
          "metadata": {
            "tags": []
          },
          "execution_count": 3
        },
        {
          "output_type": "display_data",
          "data": {
            "image/png": "[encoded data removed]",
            "text/plain": [
              "<Figure size 432x288 with 1 Axes>"
            ]
          },
          "metadata": {
            "tags": [],
            "needs_background": "light"
          }
        }
      ]
    },
    {
      "cell_type": "code",
      "metadata": {
        "id": "1dyeHcHe_7mm",
        "colab_type": "code",
        "colab": {}
      },
      "source": [
        "print(train_dataset[20][1])   #Print the corresponding label for the image"
      ],
      "execution_count": null,
      "outputs": []
    },
    {
      "cell_type": "code",
      "metadata": {
        "id": "A49b4XyW_7m2",
        "colab_type": "code",
        "colab": {}
      },
      "source": [
        "#Make the dataset iterable\n",
        "batch_size = 100\n",
        "\n",
        "train_load = torch.utils.data.DataLoader(dataset = train_dataset, \n",
        "                                         batch_size = batch_size,\n",
        "                                         shuffle = True)\n",
        "\n",
        "test_load = torch.utils.data.DataLoader(dataset = test_dataset, \n",
        "                                         batch_size = batch_size,\n",
        "                                         shuffle = False)"
      ],
      "execution_count": 4,
      "outputs": []
    },
    {
      "cell_type": "code",
      "metadata": {
        "id": "SEVKuj1f_7nG",
        "colab_type": "code",
        "colab": {
          "base_uri": "https://localhost:8080/",
          "height": 85
        },
        "outputId": "9c71e066-1015-4b24-d40b-cff6b54ecd2a"
      },
      "source": [
        "print('There are {} images in the training set'.format(len(train_dataset)))\n",
        "print('There are {} images in the test set'.format(len(test_dataset)))\n",
        "print('There are {} batches in the train loader'.format(len(train_load)))\n",
        "print('There are {} batches in the testloader'.format(len(test_load)))"
      ],
      "execution_count": 5,
      "outputs": [
        {
          "output_type": "stream",
          "text": [
            "There are 60000 images in the training set\n",
            "There are 10000 images in the test set\n",
            "There are 600 batches in the train loader\n",
            "There are 100 batches in the testloader\n"
          ],
          "name": "stdout"
        }
      ]
    },
    {
      "cell_type": "markdown",
      "metadata": {
        "id": "TR4ZFV_M_7ng",
        "colab_type": "text"
      },
      "source": [
        "![cnn mnist](https://user-images.githubusercontent.com/30661597/61713471-3c957d00-ad8b-11e9-9a38-e3f4d1e72565.png)"
      ]
    },
    {
      "cell_type": "code",
      "metadata": {
        "id": "dXRRGmyG_7nj",
        "colab_type": "code",
        "colab": {}
      },
      "source": [
        "#Create the model class\n",
        "class CNN(nn.Module):\n",
        "    def __init__(self):\n",
        "        super(CNN,self).__init__()\n",
        "        #Same Padding = [(filter size - 1) / 2] (Same Padding--> input size = output size)\n",
        "        self.cnn1 = nn.Conv2d(in_channels=1, out_channels=8, kernel_size=3,stride=1, padding=1)\n",
        "        #The output size of each of the 8 feature maps is \n",
        "        #[(input_size - filter_size + 2(padding) / stride) +1] --> [(28-3+2(1)/1)+1] = 28 (padding type is same)\n",
        "        #Batch normalization\n",
        "        self.batchnorm1 = nn.BatchNorm2d(8)\n",
        "        #RELU\n",
        "        self.relu = nn.ReLU()\n",
        "        self.maxpool = nn.MaxPool2d(kernel_size=2)\n",
        "        #After max pooling, the output of each feature map is now 28/2 = 14\n",
        "        self.cnn2 = nn.Conv2d(in_channels=8, out_channels=32, kernel_size=5, stride=1, padding=2)\n",
        "        #Output size of each of the 32 feature maps remains 14\n",
        "        self.batchnorm2 = nn.BatchNorm2d(32)\n",
        "        #After max pooling, the output of each feature map is 14/2 = 7\n",
        "        #Flatten the feature maps. You have 32 feature maps, each of them is of size 7x7 --> 32*7*7 = 1568\n",
        "        self.fc1 = nn.Linear(in_features=1568, out_features=600)\n",
        "        self.droput = nn.Dropout(p=0.5)\n",
        "        self.fc2 = nn.Linear(in_features=600, out_features=10)\n",
        "    def forward(self,x):\n",
        "        out = self.cnn1(x)\n",
        "        out = self.batchnorm1(out)\n",
        "        out = self.relu(out)\n",
        "        out = self.maxpool(out)\n",
        "        out = self.cnn2(out)\n",
        "        out = self.batchnorm2(out)\n",
        "        out = self.relu(out)\n",
        "        out = self.maxpool(out)\n",
        "        #Now we have to flatten the output. This is where we apply the feed forward neural network as learned before! \n",
        "        #It will take the shape (batch_size, 1568) = (100, 1568)\n",
        "        out = out.view(-1,1568)\n",
        "        #Then we forward through our fully connected layer \n",
        "        out = self.fc1(out)\n",
        "        out = self.relu(out)\n",
        "        out = self.droput(out)\n",
        "        out = self.fc2(out)\n",
        "        return out"
      ],
      "execution_count": 6,
      "outputs": []
    },
    {
      "cell_type": "code",
      "metadata": {
        "id": "udThQxvl_7n2",
        "colab_type": "code",
        "colab": {}
      },
      "source": [
        "model = CNN()\n",
        "CUDA = torch.cuda.is_available()\n",
        "if CUDA:\n",
        "    model = model.cuda()    \n",
        "loss_fn = nn.CrossEntropyLoss()        \n",
        "# Show weight decay\n",
        "optimizer = torch.optim.SGD(model.parameters(), lr = 0.01)"
      ],
      "execution_count": 7,
      "outputs": []
    },
    {
      "cell_type": "code",
      "metadata": {
        "id": "bSOTWxVG_7oF",
        "colab_type": "code",
        "colab": {
          "base_uri": "https://localhost:8080/",
          "height": 204
        },
        "outputId": "0824af0c-34cf-40c8-ed17-5252e62a09a9"
      },
      "source": [
        "#Understand what's happening\n",
        "iteration = 0\n",
        "correct = 0\n",
        "\n",
        "for i,(inputs,labels) in enumerate (train_load):\n",
        "\n",
        "    if CUDA:\n",
        "        inputs = inputs.cuda()\n",
        "        labels = labels.cuda()\n",
        "        \n",
        "    print(\"For one iteration, this is what happens:\")\n",
        "    print(\"Input Shape:\",inputs.shape)\n",
        "    print(\"Labels Shape:\",labels.shape)\n",
        "    output = model(inputs)\n",
        "    print(\"Outputs Shape\",output.shape)\n",
        "    _, predicted = torch.max(output, 1)\n",
        "    print(\"Predicted Shape\",predicted.shape)\n",
        "    print(\"Predicted Tensor:\")\n",
        "    print(predicted)\n",
        "    correct += (predicted == labels).sum()\n",
        "    break"
      ],
      "execution_count": 8,
      "outputs": [
        {
          "output_type": "stream",
          "text": [
            "For one iteration, this is what happens:\n",
            "Input Shape: torch.Size([100, 1, 28, 28])\n",
            "Labels Shape: torch.Size([100])\n",
            "Outputs Shape torch.Size([100, 10])\n",
            "Predicted Shape torch.Size([100])\n",
            "Predicted Tensor:\n",
            "tensor([5, 5, 5, 4, 5, 4, 0, 1, 4, 7, 9, 5, 9, 9, 1, 8, 4, 7, 8, 4, 7, 4, 9, 5,\n",
            "        4, 4, 1, 8, 1, 1, 4, 8, 9, 4, 5, 5, 5, 9, 8, 5, 5, 4, 1, 5, 9, 5, 4, 4,\n",
            "        1, 1, 3, 4, 7, 1, 8, 4, 2, 4, 5, 9, 4, 4, 4, 1, 4, 4, 4, 4, 4, 9, 9, 4,\n",
            "        9, 0, 9, 1, 1, 4, 4, 4, 4, 4, 1, 9, 9, 1, 4, 1, 4, 1, 5, 4, 5, 8, 4, 4,\n",
            "        8, 4, 7, 1])\n"
          ],
          "name": "stdout"
        }
      ]
    },
    {
      "cell_type": "code",
      "metadata": {
        "id": "sjYgZj4T_7oS",
        "colab_type": "code",
        "colab": {
          "base_uri": "https://localhost:8080/",
          "height": 394
        },
        "outputId": "42ba3e17-b751-4bde-fe81-9e9219fbeebf"
      },
      "source": [
        "#Training the CNN\n",
        "num_epochs = 25\n",
        "\n",
        "#Define the lists to store the results of loss and accuracy\n",
        "train_loss = []\n",
        "test_loss = []\n",
        "train_accuracy = []\n",
        "test_accuracy = []\n",
        "\n",
        "#Training\n",
        "for epoch in range(num_epochs): \n",
        "    #Reset these below variables to 0 at the begining of every epoch\n",
        "    correct = 0\n",
        "    iterations = 0\n",
        "    iter_loss = 0.0\n",
        "    \n",
        "    model.train()                   # Put the network into training mode\n",
        "    \n",
        "    for i, (inputs, labels) in enumerate(train_load):\n",
        "        \n",
        "        if CUDA:\n",
        "            inputs = inputs.cuda()\n",
        "            labels = labels.cuda()\n",
        "        \n",
        "        outputs = model(inputs)         \n",
        "        loss = loss_fn(outputs, labels)  \n",
        "        iter_loss += loss.item()         # Accumulate the loss\n",
        "        optimizer.zero_grad()            # Clear off the gradient in (w = w - gradient)\n",
        "        loss.backward()                 # Backpropagation \n",
        "        optimizer.step()                # Update the weights\n",
        "        \n",
        "        # Record the correct predictions for training data \n",
        "        _, predicted = torch.max(outputs, 1)\n",
        "        correct += (predicted == labels).sum()\n",
        "        iterations += 1\n",
        "    \n",
        "    # Record the training loss\n",
        "    train_loss.append(iter_loss/iterations)\n",
        "    # Record the training accuracy\n",
        "    train_accuracy.append((100 * correct / len(train_dataset)))\n",
        "   \n",
        "    #Testing\n",
        "    testing_loss = 0.0\n",
        "    correct = 0\n",
        "    iterations = 0\n",
        "\n",
        "    model.eval()                    # Put the network into evaluation mode\n",
        "    \n",
        "    for i, (inputs, labels) in enumerate(test_load):\n",
        "\n",
        "        if CUDA:\n",
        "            inputs = inputs.cuda()\n",
        "            labels = labels.cuda()\n",
        "        \n",
        "        outputs = model(inputs)     \n",
        "        loss = loss_fn(outputs, labels) # Calculate the loss\n",
        "        testing_loss += loss.item()\n",
        "        # Record the correct predictions for training data\n",
        "        _, predicted = torch.max(outputs, 1)\n",
        "        correct += (predicted == labels).sum()\n",
        "        \n",
        "        iterations += 1\n",
        "\n",
        "    # Record the Testing loss\n",
        "    test_loss.append(testing_loss/iterations)\n",
        "    # Record the Testing accuracy\n",
        "    test_accuracy.append((100 * correct / len(test_dataset)))\n",
        "    \n",
        "    print ('Epoch {}/{}, Training Loss: {:.3f}, Training Accuracy: {:.3f}, Testing Loss: {:.3f}, Testing Acc: {:.3f}'\n",
        "           .format(epoch+1, num_epochs, train_loss[-1], train_accuracy[-1], \n",
        "             test_loss[-1], test_accuracy[-1]))"
      ],
      "execution_count": null,
      "outputs": [
        {
          "output_type": "stream",
          "text": [
            "/pytorch/aten/src/ATen/native/BinaryOps.cpp:81: UserWarning: Integer division of tensors using div or / is deprecated, and in a future release div will perform true division as in Python 3. Use true_divide or floor_divide (// in Python) instead.\n"
          ],
          "name": "stderr"
        },
        {
          "output_type": "stream",
          "text": [
            "Epoch 1/25, Training Loss: 0.466, Training Accuracy: 87.000, Testing Loss: 0.145, Testing Acc: 95.000\n",
            "Epoch 2/25, Training Loss: 0.154, Training Accuracy: 95.000, Testing Loss: 0.094, Testing Acc: 97.000\n",
            "Epoch 3/25, Training Loss: 0.113, Training Accuracy: 96.000, Testing Loss: 0.074, Testing Acc: 97.000\n",
            "Epoch 4/25, Training Loss: 0.094, Training Accuracy: 97.000, Testing Loss: 0.064, Testing Acc: 97.000\n",
            "Epoch 5/25, Training Loss: 0.080, Training Accuracy: 97.000, Testing Loss: 0.054, Testing Acc: 98.000\n",
            "Epoch 6/25, Training Loss: 0.071, Training Accuracy: 97.000, Testing Loss: 0.049, Testing Acc: 98.000\n",
            "Epoch 7/25, Training Loss: 0.065, Training Accuracy: 98.000, Testing Loss: 0.046, Testing Acc: 98.000\n",
            "Epoch 8/25, Training Loss: 0.060, Training Accuracy: 98.000, Testing Loss: 0.042, Testing Acc: 98.000\n",
            "Epoch 9/25, Training Loss: 0.053, Training Accuracy: 98.000, Testing Loss: 0.040, Testing Acc: 98.000\n",
            "Epoch 10/25, Training Loss: 0.050, Training Accuracy: 98.000, Testing Loss: 0.037, Testing Acc: 98.000\n",
            "Epoch 11/25, Training Loss: 0.047, Training Accuracy: 98.000, Testing Loss: 0.037, Testing Acc: 98.000\n",
            "Epoch 12/25, Training Loss: 0.044, Training Accuracy: 98.000, Testing Loss: 0.035, Testing Acc: 98.000\n",
            "Epoch 13/25, Training Loss: 0.042, Training Accuracy: 98.000, Testing Loss: 0.033, Testing Acc: 98.000\n",
            "Epoch 14/25, Training Loss: 0.039, Training Accuracy: 98.000, Testing Loss: 0.033, Testing Acc: 98.000\n",
            "Epoch 15/25, Training Loss: 0.037, Training Accuracy: 98.000, Testing Loss: 0.032, Testing Acc: 98.000\n",
            "Epoch 16/25, Training Loss: 0.036, Training Accuracy: 98.000, Testing Loss: 0.032, Testing Acc: 98.000\n",
            "Epoch 17/25, Training Loss: 0.035, Training Accuracy: 98.000, Testing Loss: 0.029, Testing Acc: 99.000\n",
            "Epoch 18/25, Training Loss: 0.033, Training Accuracy: 99.000, Testing Loss: 0.029, Testing Acc: 99.000\n",
            "Epoch 19/25, Training Loss: 0.031, Training Accuracy: 99.000, Testing Loss: 0.029, Testing Acc: 98.000\n",
            "Epoch 20/25, Training Loss: 0.030, Training Accuracy: 99.000, Testing Loss: 0.028, Testing Acc: 99.000\n"
          ],
          "name": "stdout"
        }
      ]
    },
    {
      "cell_type": "code",
      "metadata": {
        "id": "WjsRL3Yy_7of",
        "colab_type": "code",
        "colab": {}
      },
      "source": [
        "# Loss\n",
        "f = plt.figure(figsize=(10, 10))\n",
        "plt.plot(train_loss, label='Training Loss')\n",
        "plt.plot(test_loss, label='Testing Loss')\n",
        "plt.legend()\n",
        "plt.show()"
      ],
      "execution_count": null,
      "outputs": []
    },
    {
      "cell_type": "code",
      "metadata": {
        "id": "xLFyHTlM_7os",
        "colab_type": "code",
        "colab": {}
      },
      "source": [
        "# Accuracy\n",
        "f = plt.figure(figsize=(10, 10))\n",
        "plt.plot(train_accuracy, label='Training Accuracy')\n",
        "plt.plot(test_accuracy, label='Testing Accuracy')\n",
        "plt.legend()\n",
        "plt.show()"
      ],
      "execution_count": null,
      "outputs": []
    },
    {
      "cell_type": "code",
      "metadata": {
        "id": "Xs2GzlLW_7pJ",
        "colab_type": "code",
        "colab": {}
      },
      "source": [
        "img = test_dataset[30][0].resize_((1, 1, 28, 28))   #(batch_size,channels,height,width)\n",
        "label = test_dataset[30][1]\n",
        "\n",
        "model.eval()\n",
        "\n",
        "if CUDA:\n",
        "    model = model.cuda()\n",
        "    img = img.cuda()\n",
        "    \n",
        "output = model(img)\n",
        "_, predicted = torch.max(output,1)\n",
        "print(\"Prediction is: {}\".format(predicted.item()))\n",
        "print(\"Actual is: {}\".format(label))"
      ],
      "execution_count": null,
      "outputs": []
    },
    {
      "cell_type": "code",
      "metadata": {
        "id": "hri6bTIy_7pz",
        "colab_type": "code",
        "colab": {}
      },
      "source": [
        ""
      ],
      "execution_count": null,
      "outputs": []
    }
  ]
}